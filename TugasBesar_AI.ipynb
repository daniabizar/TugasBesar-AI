{
  "cells": [
    {
      "cell_type": "markdown",
      "metadata": {
        "id": "hrTwZKjW35cL"
      },
      "source": [
        "# **Preprocessing Data**"
      ]
    },
    {
      "cell_type": "markdown",
      "metadata": {
        "id": "tDKYH0THzalx"
      },
      "source": [
        "#Import library\n",
        "Pertama kita import library yang dibutuhkan"
      ]
    },
    {
      "cell_type": "code",
      "execution_count": 1,
      "metadata": {
        "id": "Y-70TY9Ey8fo"
      },
      "outputs": [],
      "source": [
        "import pandas as pd\n",
        "import numpy as np\n",
        "import seaborn as sns\n",
        "pd.options.mode.chained_assignment = None"
      ]
    },
    {
      "cell_type": "markdown",
      "metadata": {
        "id": "weI6SXEIztJG"
      },
      "source": [
        "# Import data arrhythmia yang digunakan\n"
      ]
    },
    {
      "cell_type": "code",
      "source": [
        "from google.colab import drive\n",
        "drive.mount('/content/drive')"
      ],
      "metadata": {
        "colab": {
          "base_uri": "https://localhost:8080/"
        },
        "id": "OpbkCVP8IDQl",
        "outputId": "1f43992b-f36f-48a7-dd1a-6a4ec5e43e2e"
      },
      "execution_count": 2,
      "outputs": [
        {
          "output_type": "stream",
          "name": "stdout",
          "text": [
            "Drive already mounted at /content/drive; to attempt to forcibly remount, call drive.mount(\"/content/drive\", force_remount=True).\n"
          ]
        }
      ]
    },
    {
      "cell_type": "code",
      "execution_count": 3,
      "metadata": {
        "id": "MtnB6B_izq61"
      },
      "outputs": [],
      "source": [
        "data = pd.read_csv('/content/drive/MyDrive/Tubes PKB CLO3/arrhythmia.csv')"
      ]
    },
    {
      "cell_type": "markdown",
      "metadata": {
        "id": "QDUbGeADzyTQ"
      },
      "source": [
        "#Eksplorasi data"
      ]
    },
    {
      "cell_type": "markdown",
      "metadata": {
        "id": "2rn4x7JX0JJk"
      },
      "source": [
        "Data sebelum dilakukan pra pengolahan"
      ]
    },
    {
      "cell_type": "code",
      "execution_count": 4,
      "metadata": {
        "id": "gSTfE1WCzxg7",
        "colab": {
          "base_uri": "https://localhost:8080/"
        },
        "outputId": "26cf2591-c0ce-44b9-9beb-6fe3068ec64d"
      },
      "outputs": [
        {
          "output_type": "stream",
          "name": "stdout",
          "text": [
            "   age  sex  height  weight  QRSduration  PRinterval  Q-Tinterval  Tinterval  \\\n",
            "0   75    0     190      80           91         193          371        174   \n",
            "1   56    1     165      64           81         174          401        149   \n",
            "2   54    0     172      95          138         163          386        185   \n",
            "3   55    0     175      94          100         202          380        179   \n",
            "4   75    0     190      80           88         181          360        177   \n",
            "\n",
            "   Pinterval  QRS  ...  chV6_QwaveAmp  chV6_RwaveAmp  chV6_SwaveAmp  \\\n",
            "0        121  -16  ...            0.0            9.0           -0.9   \n",
            "1         39   25  ...            0.0            8.5            0.0   \n",
            "2        102   96  ...            0.0            9.5           -2.4   \n",
            "3        143   28  ...            0.0           12.2           -2.2   \n",
            "4        103  -16  ...            0.0           13.1           -3.6   \n",
            "\n",
            "   chV6_RPwaveAmp  chV6_SPwaveAmp  chV6_PwaveAmp  chV6_TwaveAmp  chV6_QRSA  \\\n",
            "0             0.0             0.0            0.9            2.9       23.3   \n",
            "1             0.0             0.0            0.2            2.1       20.4   \n",
            "2             0.0             0.0            0.3            3.4       12.3   \n",
            "3             0.0             0.0            0.4            2.6       34.6   \n",
            "4             0.0             0.0           -0.1            3.9       25.4   \n",
            "\n",
            "   chV6_QRSTA  class  \n",
            "0        49.4      8  \n",
            "1        38.8      6  \n",
            "2        49.0     10  \n",
            "3        61.6      1  \n",
            "4        62.8      7  \n",
            "\n",
            "[5 rows x 280 columns]\n",
            "\n",
            "Rows: 452, Columns: 280\n",
            "\n"
          ]
        }
      ],
      "source": [
        "print(data.head())\n",
        "print(f\"\\nRows: {data.shape[0]}, Columns: {data.shape[1]}\\n\")"
      ]
    },
    {
      "cell_type": "markdown",
      "metadata": {
        "id": "im5rrZjm0OzS"
      },
      "source": [
        "Terdapat 452 baris isi data dan 280 kolom yang tersedia, namun kolom classes pada 279 adalah kesimpulan karena isinya adalah angka 1-16 yang merupakan kelas dari penyakit arryhtmia yang ingin diprediksi. Berikut adalah nama tiap kolom"
      ]
    },
    {
      "cell_type": "code",
      "execution_count": 5,
      "metadata": {
        "id": "mCs53Hcv0FNY"
      },
      "outputs": [],
      "source": [
        "column_names = [\"age\", \"sex\", \"height\", \"weight\", \"qrs_duration\", 'p-r_interval', 'q-t_interval', 't_interval', 'p_interval', 'qrs',\n",
        "                't', 'p', 'qrst', 'j', 'heart_rate', 'q_wave', 'r_wave', 's_wave', \"r'_wave\", \"s'_wave\", 'number_of_intrinsic_deflections',\n",
        "                'existence_of_ragged_r_wave', 'existence_of_diphasic_derivation_of_r_wave', 'existence_of_ragged_p_wave', 'existence_of_diphasic_derivation_of_p_wave',\n",
        "                'existence_of_ragged_t_wave', 'existence_of_diphasic_derivation_of_t_wave', 'channel_dii', 'channel_dii', 'channel_dii', 'channel_dii', 'channel_dii', 'channel_dii',\n",
        "                'channel_dii', 'channel_dii', 'channel_dii', 'channel_dii', 'channel_dii', 'channel_dii', 'channels_diii', 'channel_diii', 'channel_diii', 'channel_diii',\n",
        "                'channel_diii', 'channel_diii', 'channel_diii', 'channel_diii', 'channel_diii', 'channel_diii', 'channel_diii', 'channel_diii', 'channel_avr', 'channel_avr',\n",
        "                'channel_avr', 'channel_avr', 'channel_avr', 'channel_avr', 'channel_avr', 'channel_avr', 'channel_avr', 'channel_avr', 'channel_avr', 'channel_avr' ,'channel_avl',\n",
        "                'channel_avl', 'channel_avl', 'channel_avl', 'channel_avl', 'channel_avl', 'channel_avl', 'channel_avl', 'channel_avl', 'channel_avl', 'channel_avl', 'channel_avl' ,\n",
        "                'channel_avf', 'channel_avf', 'channel_avf', 'channel_avf', 'channel_avf', 'channel_avf', 'channel_avf', 'channel_avf', 'channel_avf', 'channel_avf', 'channel_avf',\n",
        "                'channel_avf', 'channel_v1', 'channel_v1', 'channel_v1', 'channel_v1', 'channel_v1', 'channel_v1', 'channel_v1', 'channel_v1', 'channel_v1', 'channel_v1', 'channel_v1',\n",
        "                'channel_v1' ,'channel_v2', 'channel_v2', 'channel_v2', 'channel_v2', 'channel_v2', 'channel_v2', 'channel_v2', 'channel_v2', 'channel_v2', 'channel_v2', 'channel_v2',\n",
        "                'channel_v2' ,'channel_v3','channel_v3', 'channel_v3', 'channel_v3', 'channel_v3', 'channel_v3', 'channel_v3', 'channel_v3', 'channel_v3', 'channel_v3', 'channel_v3',\n",
        "                'channel_v3','channel_v4', 'channel_v4', 'channel_v4', 'channel_v4', 'channel_v4', 'channel_v4', 'channel_v4', 'channel_v4', 'channel_v4', 'channel_v4', 'channel_v4' ,\n",
        "                'channel_v4','channel_v5', 'channel_v5', 'channel_v5', 'channel_v5', 'channel_v5', 'channel_v5', 'channel_v5', 'channel_v5', 'channel_v5', 'channel_v5', 'channel_v5' ,\n",
        "                'channel_v5','channel_v6', 'channel_v6', 'channel_v6', 'channel_v6', 'channel_v6', 'channel_v6', 'channel_v6', 'channel_v6', 'channel_v6', 'channel_v6', 'channel_v6' ,\n",
        "                'channel_v6', 'jj_wave', 'q_wave', 'r_wave', 's_wave', \"r'_wave\", \"s'_wave\", 'p_wave', 't_wave', 'qrsa', 'qrsta', 'of_channel_dii','of_channel_dii', 'of_channel_dii',\n",
        "                'of_channel_dii', 'of_channel_dii', 'of_channel_dii', 'of_channel_dii', 'of_channel_dii', 'of_channel_dii', 'of_channel_dii' , 'of_channel_diii', 'of_channel_diii',\n",
        "                'of_channel_diii', 'of_channel_diii', 'of_channel_diii', 'of_channel_diii', 'of_channel_diii', 'of_channel_diii', 'of_channel_diii', 'of_channel_diii','of_channel_avr',\n",
        "                'of_channel_avr', 'of_channel_avr', 'of_channel_avr', 'of_channel_avr', 'of_channel_avr', 'of_channel_avr', 'of_channel_avr', 'of_channel_avr', 'of_channel_avr' ,\n",
        "                'of_channel_avl','of_channel_avl', 'of_channel_avl', 'of_channel_avl', 'of_channel_avl', 'of_channel_avl', 'of_channel_avl', 'of_channel_avl', 'of_channel_avl', 'of_channel_avl',\n",
        "                'of_channel_avf', 'of_channel_avf', 'of_channel_avf', 'of_channel_avf', 'of_channel_avf', 'of_channel_avf', 'of_channel_avf', 'of_channel_avf', 'of_channel_avf', 'of_channel_avf',\n",
        "                'of_channel_v1','of_channel_v1', 'of_channel_v1', 'of_channel_v1', 'of_channel_v1', 'of_channel_v1', 'of_channel_v1', 'of_channel_v1', 'of_channel_v1', 'of_channel_v1' ,\n",
        "                'of_channel_v2','of_channel_v2', 'of_channel_v2', 'of_channel_v2', 'of_channel_v2', 'of_channel_v2', 'of_channel_v2', 'of_channel_v2', 'of_channel_v2', 'of_channel_v2' ,\n",
        "                'of_channel_v3','of_channel_v3', 'of_channel_v3', 'of_channel_v3', 'of_channel_v3', 'of_channel_v3', 'of_channel_v3', 'of_channel_v3', 'of_channel_v3', 'of_channel_v3' ,\n",
        "                'of_channel_v4','of_channel_v4', 'of_channel_v4', 'of_channel_v4', 'of_channel_v4', 'of_channel_v4', 'of_channel_v4', 'of_channel_v4', 'of_channel_v4', 'of_channel_v4' ,\n",
        "                'of_channel_v5','of_channel_v5', 'of_channel_v5', 'of_channel_v5', 'of_channel_v5', 'of_channel_v5', 'of_channel_v5', 'of_channel_v5', 'of_channel_v5', 'of_channel_v5' ,\n",
        "                'of_channel_v6', 'of_channel_v6', 'of_channel_v6', 'of_channel_v6', 'of_channel_v6', 'of_channel_v6', 'of_channel_v6', 'of_channel_v6', 'of_channel_v6', 'of_channel_v6', 'classes']\n",
        "data.columns = column_names"
      ]
    },
    {
      "cell_type": "markdown",
      "metadata": {
        "id": "Brbsq-rP0mCt"
      },
      "source": [
        "Data berisi ? diubah menjadi null"
      ]
    },
    {
      "cell_type": "code",
      "execution_count": 6,
      "metadata": {
        "id": "Mkr3kGQL0S5c"
      },
      "outputs": [],
      "source": [
        "data = data.replace(['?'], np.NaN)"
      ]
    },
    {
      "cell_type": "markdown",
      "metadata": {
        "id": "qILbLHUs1RUa"
      },
      "source": [
        "#CLEANING DATA"
      ]
    },
    {
      "cell_type": "markdown",
      "metadata": {
        "id": "5AIDWEoS2m7d"
      },
      "source": [
        "Karena kolom heart_rate seharusnya numeric, saya isi NaN dengan rata2nya dan ubah ke numerik"
      ]
    },
    {
      "cell_type": "code",
      "execution_count": 7,
      "metadata": {
        "id": "JmS_1iVZ2nxi"
      },
      "outputs": [],
      "source": [
        "avg_data = data.dropna(subset = [\"heart_rate\"], axis = 0)\n",
        "avg_data.reset_index(drop=True, inplace=True)\n",
        "avg_data[\"heart_rate\"] = avg_data[\"heart_rate\"].astype(int)\n",
        "avg = avg_data[\"heart_rate\"].mean(axis=0)\n",
        "data['heart_rate'] = data['heart_rate'].replace([np.NaN], avg)\n",
        "data[\"heart_rate\"] = data[\"heart_rate\"].astype(int)"
      ]
    },
    {
      "cell_type": "markdown",
      "metadata": {
        "id": "pQv7oukQ2qHO"
      },
      "source": [
        "Kolom t, p, qrst, j adalah vector angle (derajat), maka saya isi dengan rata2 dan ubah ke numerik"
      ]
    },
    {
      "cell_type": "code",
      "execution_count": 8,
      "metadata": {
        "id": "4CjU0ILV2roo"
      },
      "outputs": [],
      "source": [
        "avg_data = data.dropna(subset = [\"t\"], axis = 0)\n",
        "avg_data.reset_index(drop=True, inplace=True)\n",
        "avg_data[\"t\"] = avg_data[\"t\"].astype(int)\n",
        "avg = avg_data[\"t\"].mean(axis=0)\n",
        "data['t'] = data['t'].replace([np.NaN], avg)\n",
        "data[\"t\"] = data[\"t\"].astype(int)\n",
        "\n",
        "avg_data = data.dropna(subset = [\"p\"], axis = 0)\n",
        "avg_data.reset_index(drop=True, inplace=True)\n",
        "avg_data[\"p\"] = avg_data[\"p\"].astype(int)\n",
        "avg = avg_data[\"p\"].mean(axis=0)\n",
        "data['p'] = data['p'].replace([np.NaN], avg)\n",
        "data[\"p\"] = data[\"p\"].astype(int)\n",
        "\n",
        "avg_data = data.dropna(subset = [\"qrst\"], axis = 0)\n",
        "avg_data.reset_index(drop=True, inplace=True)\n",
        "avg_data[\"qrst\"] = avg_data[\"qrst\"].astype(int)\n",
        "avg = avg_data[\"qrst\"].mean(axis=0)\n",
        "data['qrst'] = data['qrst'].replace([np.NaN], avg)\n",
        "data[\"qrst\"] = data[\"qrst\"].astype(int)\n",
        "\n",
        "avg_data = data.dropna(subset = [\"j\"], axis = 0)\n",
        "avg_data.reset_index(drop=True, inplace=True)\n",
        "avg_data[\"j\"] = avg_data[\"j\"].astype(int)\n",
        "avg = avg_data[\"j\"].mean(axis=0)\n",
        "data['j'] = data['j'].replace([np.NaN], avg)\n",
        "data[\"j\"] = data[\"j\"].astype(int)"
      ]
    },
    {
      "cell_type": "markdown",
      "metadata": {
        "id": "yYIjNOEU2vFS"
      },
      "source": [
        "Bisa dilihat data yang NaN sudah tidak ada"
      ]
    },
    {
      "cell_type": "code",
      "execution_count": 9,
      "metadata": {
        "id": "eJn9TA5g2ugs",
        "colab": {
          "base_uri": "https://localhost:8080/"
        },
        "outputId": "dcb0bee4-61d9-4afd-a22d-e5697989b336"
      },
      "outputs": [
        {
          "output_type": "stream",
          "name": "stdout",
          "text": [
            "Total missing values: 0 (0.0%)\n",
            "\n"
          ]
        }
      ],
      "source": [
        "null = data.isnull().sum()\n",
        "for i in range(len(data.columns)):\n",
        "    if null[i] > 0:\n",
        "        print(f\"{data.columns[i]}: {null[i]} ({(null[i]/len(data))*100}%)\")\n",
        "total_cells = np.product(data.shape)\n",
        "total_missing = null.sum()\n",
        "print(f\"Total missing values: {total_missing} ({(total_missing/total_cells) * 100}%)\\n\")"
      ]
    },
    {
      "cell_type": "markdown",
      "metadata": {
        "id": "YPXQn5rJ3Qe5"
      },
      "source": [
        "data pada \"classes 1\" terlalu banyak, namun sejauh ini sudah aman\""
      ]
    },
    {
      "cell_type": "code",
      "execution_count": 10,
      "metadata": {
        "id": "X86N8p-k3BUd",
        "colab": {
          "base_uri": "https://localhost:8080/",
          "height": 503
        },
        "outputId": "d85d4bb2-a38e-4251-b065-9b0f8b54e75a"
      },
      "outputs": [
        {
          "output_type": "stream",
          "name": "stdout",
          "text": [
            "\n",
            "(452, 280)\n",
            "\n"
          ]
        },
        {
          "output_type": "display_data",
          "data": {
            "text/plain": [
              "<Figure size 640x480 with 1 Axes>"
            ],
            "image/png": "[encoded data removed]"
          },
          "metadata": {}
        }
      ],
      "source": [
        "occur = data.groupby([\"classes\"]).size()\n",
        "df_occur = pd.DataFrame({'classes':occur.index, 'occurance':occur.values})\n",
        "sns.barplot(data=df_occur, x=\"classes\", y=\"occurance\")\n",
        "print(f\"\\n{data.shape}\\n\")"
      ]
    },
    {
      "cell_type": "markdown",
      "metadata": {
        "id": "3BPo7FOr3Uhe"
      },
      "source": [
        "Kita akan cek data umur, terlihat data umur cukup normal\n",
        "sehingga tidak perlu diadakan pembersihan kode\n"
      ]
    },
    {
      "cell_type": "code",
      "execution_count": 11,
      "metadata": {
        "id": "iJNHVps63UHL",
        "colab": {
          "base_uri": "https://localhost:8080/",
          "height": 503
        },
        "outputId": "38ae2e8b-e59f-4239-feac-aa19b8b5712a"
      },
      "outputs": [
        {
          "output_type": "stream",
          "name": "stdout",
          "text": [
            "\n",
            "(452, 280)\n",
            "\n"
          ]
        },
        {
          "output_type": "display_data",
          "data": {
            "text/plain": [
              "<Figure size 640x480 with 1 Axes>"
            ],
            "image/png": "[encoded data removed]"
          },
          "metadata": {}
        }
      ],
      "source": [
        "occur = data.groupby([\"age\"]).size()\n",
        "df_occur = pd.DataFrame({'age':occur.index, 'occurance':occur.values})\n",
        "sns.scatterplot(data=df_occur, x=\"age\", y=\"occurance\")\n",
        "print(f\"\\n{data.shape}\\n\")"
      ]
    },
    {
      "cell_type": "markdown",
      "metadata": {
        "id": "EO1gl92o3YQP"
      },
      "source": [
        "Pada sex, data yang ada adalah 0 dan 1. untuk kolom sex sudah aman"
      ]
    },
    {
      "cell_type": "code",
      "execution_count": 12,
      "metadata": {
        "id": "0R-Klfrk3XfG",
        "colab": {
          "base_uri": "https://localhost:8080/",
          "height": 503
        },
        "outputId": "68c7065c-79bf-4391-dea3-769a538333ff"
      },
      "outputs": [
        {
          "output_type": "stream",
          "name": "stdout",
          "text": [
            "\n",
            "(452, 280)\n",
            "\n"
          ]
        },
        {
          "output_type": "display_data",
          "data": {
            "text/plain": [
              "<Figure size 640x480 with 1 Axes>"
            ],
            "image/png": "[encoded data removed]"
          },
          "metadata": {}
        }
      ],
      "source": [
        "occur = data.groupby([\"sex\"]).size()\n",
        "df_occur = pd.DataFrame({'sex':occur.index, 'occurance':occur.values})\n",
        "sns.barplot(data=df_occur, x=\"sex\", y=\"occurance\")\n",
        "print(f\"\\n{data.shape}\\n\")"
      ]
    },
    {
      "cell_type": "markdown",
      "metadata": {
        "id": "nJU4qZlT3c6-"
      },
      "source": [
        "Untuk data weight sudah cukup aman"
      ]
    },
    {
      "cell_type": "code",
      "execution_count": 13,
      "metadata": {
        "id": "g1FEC2Sv3cVt",
        "colab": {
          "base_uri": "https://localhost:8080/",
          "height": 504
        },
        "outputId": "394764db-cbae-4a56-9652-4e580c66c9f5"
      },
      "outputs": [
        {
          "output_type": "stream",
          "name": "stdout",
          "text": [
            "\n",
            "(452, 280)\n",
            "\n"
          ]
        },
        {
          "output_type": "display_data",
          "data": {
            "text/plain": [
              "<Figure size 640x480 with 1 Axes>"
            ],
            "image/png": "[encoded data removed]"
          },
          "metadata": {}
        }
      ],
      "source": [
        "occur = data.groupby([\"weight\"]).size()\n",
        "df_occur = pd.DataFrame({'weight':occur.index, 'occurance':occur.values})\n",
        "sns.scatterplot(data=df_occur, x=\"weight\", y=\"occurance\")\n",
        "print(f\"\\n{data.shape}\\n\")"
      ]
    },
    {
      "cell_type": "markdown",
      "metadata": {
        "id": "l293Rij545Iw"
      },
      "source": [
        "Beberapa tinggi yang tidak masuk akal dibuang"
      ]
    },
    {
      "cell_type": "code",
      "execution_count": 14,
      "metadata": {
        "id": "CYZ_t7nQ5HhZ",
        "colab": {
          "base_uri": "https://localhost:8080/",
          "height": 503
        },
        "outputId": "647f745d-1cc7-48ec-ea5f-b0669c94e38b"
      },
      "outputs": [
        {
          "output_type": "stream",
          "name": "stdout",
          "text": [
            "\n",
            "(452, 280)\n",
            "\n"
          ]
        },
        {
          "output_type": "display_data",
          "data": {
            "text/plain": [
              "<Figure size 640x480 with 1 Axes>"
            ],
            "image/png": "[encoded data removed]"
          },
          "metadata": {}
        }
      ],
      "source": [
        "occur = data.groupby([\"height\"]).size()\n",
        "df_occur = pd.DataFrame({'height':occur.index, 'occurance':occur.values})\n",
        "sns.scatterplot(data=df_occur, x=\"height\", y=\"occurance\")\n",
        "print(f\"\\n{data.shape}\\n\")"
      ]
    },
    {
      "cell_type": "code",
      "execution_count": 15,
      "metadata": {
        "id": "AhF8QOIf5RKZ"
      },
      "outputs": [],
      "source": [
        "data = data[~data.isin([608]).any(axis=1)]\n",
        "data = data[~data.isin([780]).any(axis=1)]"
      ]
    },
    {
      "cell_type": "code",
      "execution_count": 16,
      "metadata": {
        "id": "J2ucsgmU5aBc",
        "colab": {
          "base_uri": "https://localhost:8080/",
          "height": 503
        },
        "outputId": "b7b15330-f2a0-411f-f7d3-072101a1e3ae"
      },
      "outputs": [
        {
          "output_type": "stream",
          "name": "stdout",
          "text": [
            "\n",
            "(450, 280)\n",
            "\n"
          ]
        },
        {
          "output_type": "display_data",
          "data": {
            "text/plain": [
              "<Figure size 640x480 with 1 Axes>"
            ],
            "image/png": "[encoded data removed]"
          },
          "metadata": {}
        }
      ],
      "source": [
        "occur = data.groupby([\"height\"]).size()\n",
        "df_occur = pd.DataFrame({'height':occur.index, 'occurance':occur.values})\n",
        "sns.scatterplot(data=df_occur, x=\"height\", y=\"occurance\")\n",
        "print(f\"\\n{data.shape}\\n\")"
      ]
    },
    {
      "cell_type": "markdown",
      "metadata": {
        "id": "1Zi-7ffN5irM"
      },
      "source": [
        "Data detak jantung terlihat normal"
      ]
    },
    {
      "cell_type": "code",
      "execution_count": 17,
      "metadata": {
        "id": "wmILyyjQ5e8z",
        "colab": {
          "base_uri": "https://localhost:8080/",
          "height": 504
        },
        "outputId": "c4de03d1-4281-400a-8f85-2f72b0ef7322"
      },
      "outputs": [
        {
          "output_type": "stream",
          "name": "stdout",
          "text": [
            "\n",
            "(450, 280)\n",
            "\n"
          ]
        },
        {
          "output_type": "display_data",
          "data": {
            "text/plain": [
              "<Figure size 640x480 with 1 Axes>"
            ],
            "image/png": "[encoded data removed]"
          },
          "metadata": {}
        }
      ],
      "source": [
        "occur = data.groupby([\"heart_rate\"]).size()\n",
        "df_occur = pd.DataFrame({'heart_rate':occur.index, 'occurance':occur.values})\n",
        "sns.scatterplot(data=df_occur, x=\"heart_rate\", y=\"occurance\")\n",
        "print(f\"\\n{data.shape}\\n\")"
      ]
    },
    {
      "cell_type": "markdown",
      "metadata": {
        "id": "wtlLXOCa58lZ"
      },
      "source": [
        "Data yang sudah di reproses tersebut kemudian disimpan ke csv untuk dilakukan pengujian"
      ]
    },
    {
      "cell_type": "code",
      "execution_count": 18,
      "metadata": {
        "id": "7Ija0-gO59qp"
      },
      "outputs": [],
      "source": [
        "data.to_csv('dataBersih.csv')"
      ]
    },
    {
      "cell_type": "markdown",
      "metadata": {
        "id": "JMIoKbd36Brz"
      },
      "source": [
        "\n",
        "Pre-proses data sudah selesai"
      ]
    },
    {
      "cell_type": "markdown",
      "source": [
        "#**Pemrosesan data (Training Data)**"
      ],
      "metadata": {
        "id": "FYcTEzWqLZ9e"
      }
    },
    {
      "cell_type": "code",
      "source": [],
      "metadata": {
        "id": "sE2WZ5jMMOdf"
      },
      "execution_count": 18,
      "outputs": []
    },
    {
      "cell_type": "markdown",
      "source": [
        "#KNN"
      ],
      "metadata": {
        "id": "-ZfNKTx5LoFW"
      }
    },
    {
      "cell_type": "markdown",
      "source": [],
      "metadata": {
        "id": "x-hdO6piLsN3"
      }
    },
    {
      "cell_type": "code",
      "source": [
        "import pandas as pd\n",
        "import numpy as np"
      ],
      "metadata": {
        "id": "MtHaazkMPMvF"
      },
      "execution_count": 19,
      "outputs": []
    },
    {
      "cell_type": "code",
      "source": [
        "data = pd.read_csv('/content/dataBersih.csv')"
      ],
      "metadata": {
        "id": "aSF1Thg7PN0-"
      },
      "execution_count": 20,
      "outputs": []
    },
    {
      "cell_type": "code",
      "source": [
        "data.head()"
      ],
      "metadata": {
        "colab": {
          "base_uri": "https://localhost:8080/",
          "height": 272
        },
        "id": "dUhUV0HCPT0Q",
        "outputId": "a3703100-780b-4f8a-f116-522922703f55"
      },
      "execution_count": 21,
      "outputs": [
        {
          "output_type": "execute_result",
          "data": {
            "text/plain": [
              "   Unnamed: 0  age  sex  height  weight  qrs_duration  p-r_interval  \\\n",
              "0           0   75    0     190      80            91           193   \n",
              "1           1   56    1     165      64            81           174   \n",
              "2           2   54    0     172      95           138           163   \n",
              "3           3   55    0     175      94           100           202   \n",
              "4           4   75    0     190      80            88           181   \n",
              "\n",
              "   q-t_interval  t_interval  p_interval  ...  of_channel_v6.1  \\\n",
              "0           371         174         121  ...              0.0   \n",
              "1           401         149          39  ...              0.0   \n",
              "2           386         185         102  ...              0.0   \n",
              "3           380         179         143  ...              0.0   \n",
              "4           360         177         103  ...              0.0   \n",
              "\n",
              "   of_channel_v6.2  of_channel_v6.3  of_channel_v6.4  of_channel_v6.5  \\\n",
              "0              9.0             -0.9              0.0              0.0   \n",
              "1              8.5              0.0              0.0              0.0   \n",
              "2              9.5             -2.4              0.0              0.0   \n",
              "3             12.2             -2.2              0.0              0.0   \n",
              "4             13.1             -3.6              0.0              0.0   \n",
              "\n",
              "   of_channel_v6.6  of_channel_v6.7  of_channel_v6.8  of_channel_v6.9  classes  \n",
              "0              0.9              2.9             23.3             49.4        8  \n",
              "1              0.2              2.1             20.4             38.8        6  \n",
              "2              0.3              3.4             12.3             49.0       10  \n",
              "3              0.4              2.6             34.6             61.6        1  \n",
              "4             -0.1              3.9             25.4             62.8        7  \n",
              "\n",
              "[5 rows x 281 columns]"
            ],
            "text/html": [
              "\n",
              "  <div id=\"df-5e766a54-b409-4162-a36c-822c330ca587\" class=\"colab-df-container\">\n",
              "    <div>\n",
              "<style scoped>\n",
              "    .dataframe tbody tr th:only-of-type {\n",
              "        vertical-align: middle;\n",
              "    }\n",
              "\n",
              "    .dataframe tbody tr th {\n",
              "        vertical-align: top;\n",
              "    }\n",
              "\n",
              "    .dataframe thead th {\n",
              "        text-align: right;\n",
              "    }\n",
              "</style>\n",
              "<table border=\"1\" class=\"dataframe\">\n",
              "  <thead>\n",
              "    <tr style=\"text-align: right;\">\n",
              "      <th></th>\n",
              "      <th>Unnamed: 0</th>\n",
              "      <th>age</th>\n",
              "      <th>sex</th>\n",
              "      <th>height</th>\n",
              "      <th>weight</th>\n",
              "      <th>qrs_duration</th>\n",
              "      <th>p-r_interval</th>\n",
              "      <th>q-t_interval</th>\n",
              "      <th>t_interval</th>\n",
              "      <th>p_interval</th>\n",
              "      <th>...</th>\n",
              "      <th>of_channel_v6.1</th>\n",
              "      <th>of_channel_v6.2</th>\n",
              "      <th>of_channel_v6.3</th>\n",
              "      <th>of_channel_v6.4</th>\n",
              "      <th>of_channel_v6.5</th>\n",
              "      <th>of_channel_v6.6</th>\n",
              "      <th>of_channel_v6.7</th>\n",
              "      <th>of_channel_v6.8</th>\n",
              "      <th>of_channel_v6.9</th>\n",
              "      <th>classes</th>\n",
              "    </tr>\n",
              "  </thead>\n",
              "  <tbody>\n",
              "    <tr>\n",
              "      <th>0</th>\n",
              "      <td>0</td>\n",
              "      <td>75</td>\n",
              "      <td>0</td>\n",
              "      <td>190</td>\n",
              "      <td>80</td>\n",
              "      <td>91</td>\n",
              "      <td>193</td>\n",
              "      <td>371</td>\n",
              "      <td>174</td>\n",
              "      <td>121</td>\n",
              "      <td>...</td>\n",
              "      <td>0.0</td>\n",
              "      <td>9.0</td>\n",
              "      <td>-0.9</td>\n",
              "      <td>0.0</td>\n",
              "      <td>0.0</td>\n",
              "      <td>0.9</td>\n",
              "      <td>2.9</td>\n",
              "      <td>23.3</td>\n",
              "      <td>49.4</td>\n",
              "      <td>8</td>\n",
              "    </tr>\n",
              "    <tr>\n",
              "      <th>1</th>\n",
              "      <td>1</td>\n",
              "      <td>56</td>\n",
              "      <td>1</td>\n",
              "      <td>165</td>\n",
              "      <td>64</td>\n",
              "      <td>81</td>\n",
              "      <td>174</td>\n",
              "      <td>401</td>\n",
              "      <td>149</td>\n",
              "      <td>39</td>\n",
              "      <td>...</td>\n",
              "      <td>0.0</td>\n",
              "      <td>8.5</td>\n",
              "      <td>0.0</td>\n",
              "      <td>0.0</td>\n",
              "      <td>0.0</td>\n",
              "      <td>0.2</td>\n",
              "      <td>2.1</td>\n",
              "      <td>20.4</td>\n",
              "      <td>38.8</td>\n",
              "      <td>6</td>\n",
              "    </tr>\n",
              "    <tr>\n",
              "      <th>2</th>\n",
              "      <td>2</td>\n",
              "      <td>54</td>\n",
              "      <td>0</td>\n",
              "      <td>172</td>\n",
              "      <td>95</td>\n",
              "      <td>138</td>\n",
              "      <td>163</td>\n",
              "      <td>386</td>\n",
              "      <td>185</td>\n",
              "      <td>102</td>\n",
              "      <td>...</td>\n",
              "      <td>0.0</td>\n",
              "      <td>9.5</td>\n",
              "      <td>-2.4</td>\n",
              "      <td>0.0</td>\n",
              "      <td>0.0</td>\n",
              "      <td>0.3</td>\n",
              "      <td>3.4</td>\n",
              "      <td>12.3</td>\n",
              "      <td>49.0</td>\n",
              "      <td>10</td>\n",
              "    </tr>\n",
              "    <tr>\n",
              "      <th>3</th>\n",
              "      <td>3</td>\n",
              "      <td>55</td>\n",
              "      <td>0</td>\n",
              "      <td>175</td>\n",
              "      <td>94</td>\n",
              "      <td>100</td>\n",
              "      <td>202</td>\n",
              "      <td>380</td>\n",
              "      <td>179</td>\n",
              "      <td>143</td>\n",
              "      <td>...</td>\n",
              "      <td>0.0</td>\n",
              "      <td>12.2</td>\n",
              "      <td>-2.2</td>\n",
              "      <td>0.0</td>\n",
              "      <td>0.0</td>\n",
              "      <td>0.4</td>\n",
              "      <td>2.6</td>\n",
              "      <td>34.6</td>\n",
              "      <td>61.6</td>\n",
              "      <td>1</td>\n",
              "    </tr>\n",
              "    <tr>\n",
              "      <th>4</th>\n",
              "      <td>4</td>\n",
              "      <td>75</td>\n",
              "      <td>0</td>\n",
              "      <td>190</td>\n",
              "      <td>80</td>\n",
              "      <td>88</td>\n",
              "      <td>181</td>\n",
              "      <td>360</td>\n",
              "      <td>177</td>\n",
              "      <td>103</td>\n",
              "      <td>...</td>\n",
              "      <td>0.0</td>\n",
              "      <td>13.1</td>\n",
              "      <td>-3.6</td>\n",
              "      <td>0.0</td>\n",
              "      <td>0.0</td>\n",
              "      <td>-0.1</td>\n",
              "      <td>3.9</td>\n",
              "      <td>25.4</td>\n",
              "      <td>62.8</td>\n",
              "      <td>7</td>\n",
              "    </tr>\n",
              "  </tbody>\n",
              "</table>\n",
              "<p>5 rows × 281 columns</p>\n",
              "</div>\n",
              "    <div class=\"colab-df-buttons\">\n",
              "\n",
              "  <div class=\"colab-df-container\">\n",
              "    <button class=\"colab-df-convert\" onclick=\"convertToInteractive('df-5e766a54-b409-4162-a36c-822c330ca587')\"\n",
              "            title=\"Convert this dataframe to an interactive table.\"\n",
              "            style=\"display:none;\">\n",
              "\n",
              "  <svg xmlns=\"http://www.w3.org/2000/svg\" height=\"24px\" viewBox=\"0 -960 960 960\">\n",
              "    <path d=\"M120-120v-720h720v720H120Zm60-500h600v-160H180v160Zm220 220h160v-160H400v160Zm0 220h160v-160H400v160ZM180-400h160v-160H180v160Zm440 0h160v-160H620v160ZM180-180h160v-160H180v160Zm440 0h160v-160H620v160Z\"/>\n",
              "  </svg>\n",
              "    </button>\n",
              "\n",
              "  <style>\n",
              "    .colab-df-container {\n",
              "      display:flex;\n",
              "      gap: 12px;\n",
              "    }\n",
              "\n",
              "    .colab-df-convert {\n",
              "      background-color: #E8F0FE;\n",
              "      border: none;\n",
              "      border-radius: 50%;\n",
              "      cursor: pointer;\n",
              "      display: none;\n",
              "      fill: #1967D2;\n",
              "      height: 32px;\n",
              "      padding: 0 0 0 0;\n",
              "      width: 32px;\n",
              "    }\n",
              "\n",
              "    .colab-df-convert:hover {\n",
              "      background-color: #E2EBFA;\n",
              "      box-shadow: 0px 1px 2px rgba(60, 64, 67, 0.3), 0px 1px 3px 1px rgba(60, 64, 67, 0.15);\n",
              "      fill: #174EA6;\n",
              "    }\n",
              "\n",
              "    .colab-df-buttons div {\n",
              "      margin-bottom: 4px;\n",
              "    }\n",
              "\n",
              "    [theme=dark] .colab-df-convert {\n",
              "      background-color: #3B4455;\n",
              "      fill: #D2E3FC;\n",
              "    }\n",
              "\n",
              "    [theme=dark] .colab-df-convert:hover {\n",
              "      background-color: #434B5C;\n",
              "      box-shadow: 0px 1px 3px 1px rgba(0, 0, 0, 0.15);\n",
              "      filter: drop-shadow(0px 1px 2px rgba(0, 0, 0, 0.3));\n",
              "      fill: #FFFFFF;\n",
              "    }\n",
              "  </style>\n",
              "\n",
              "    <script>\n",
              "      const buttonEl =\n",
              "        document.querySelector('#df-5e766a54-b409-4162-a36c-822c330ca587 button.colab-df-convert');\n",
              "      buttonEl.style.display =\n",
              "        google.colab.kernel.accessAllowed ? 'block' : 'none';\n",
              "\n",
              "      async function convertToInteractive(key) {\n",
              "        const element = document.querySelector('#df-5e766a54-b409-4162-a36c-822c330ca587');\n",
              "        const dataTable =\n",
              "          await google.colab.kernel.invokeFunction('convertToInteractive',\n",
              "                                                    [key], {});\n",
              "        if (!dataTable) return;\n",
              "\n",
              "        const docLinkHtml = 'Like what you see? Visit the ' +\n",
              "          '<a target=\"_blank\" href=https://colab.research.google.com/notebooks/data_table.ipynb>data table notebook</a>'\n",
              "          + ' to learn more about interactive tables.';\n",
              "        element.innerHTML = '';\n",
              "        dataTable['output_type'] = 'display_data';\n",
              "        await google.colab.output.renderOutput(dataTable, element);\n",
              "        const docLink = document.createElement('div');\n",
              "        docLink.innerHTML = docLinkHtml;\n",
              "        element.appendChild(docLink);\n",
              "      }\n",
              "    </script>\n",
              "  </div>\n",
              "\n",
              "\n",
              "<div id=\"df-db34701c-a570-48c6-b701-5bc097b3064c\">\n",
              "  <button class=\"colab-df-quickchart\" onclick=\"quickchart('df-db34701c-a570-48c6-b701-5bc097b3064c')\"\n",
              "            title=\"Suggest charts\"\n",
              "            style=\"display:none;\">\n",
              "\n",
              "<svg xmlns=\"http://www.w3.org/2000/svg\" height=\"24px\"viewBox=\"0 0 24 24\"\n",
              "     width=\"24px\">\n",
              "    <g>\n",
              "        <path d=\"M19 3H5c-1.1 0-2 .9-2 2v14c0 1.1.9 2 2 2h14c1.1 0 2-.9 2-2V5c0-1.1-.9-2-2-2zM9 17H7v-7h2v7zm4 0h-2V7h2v10zm4 0h-2v-4h2v4z\"/>\n",
              "    </g>\n",
              "</svg>\n",
              "  </button>\n",
              "\n",
              "<style>\n",
              "  .colab-df-quickchart {\n",
              "      --bg-color: #E8F0FE;\n",
              "      --fill-color: #1967D2;\n",
              "      --hover-bg-color: #E2EBFA;\n",
              "      --hover-fill-color: #174EA6;\n",
              "      --disabled-fill-color: #AAA;\n",
              "      --disabled-bg-color: #DDD;\n",
              "  }\n",
              "\n",
              "  [theme=dark] .colab-df-quickchart {\n",
              "      --bg-color: #3B4455;\n",
              "      --fill-color: #D2E3FC;\n",
              "      --hover-bg-color: #434B5C;\n",
              "      --hover-fill-color: #FFFFFF;\n",
              "      --disabled-bg-color: #3B4455;\n",
              "      --disabled-fill-color: #666;\n",
              "  }\n",
              "\n",
              "  .colab-df-quickchart {\n",
              "    background-color: var(--bg-color);\n",
              "    border: none;\n",
              "    border-radius: 50%;\n",
              "    cursor: pointer;\n",
              "    display: none;\n",
              "    fill: var(--fill-color);\n",
              "    height: 32px;\n",
              "    padding: 0;\n",
              "    width: 32px;\n",
              "  }\n",
              "\n",
              "  .colab-df-quickchart:hover {\n",
              "    background-color: var(--hover-bg-color);\n",
              "    box-shadow: 0 1px 2px rgba(60, 64, 67, 0.3), 0 1px 3px 1px rgba(60, 64, 67, 0.15);\n",
              "    fill: var(--button-hover-fill-color);\n",
              "  }\n",
              "\n",
              "  .colab-df-quickchart-complete:disabled,\n",
              "  .colab-df-quickchart-complete:disabled:hover {\n",
              "    background-color: var(--disabled-bg-color);\n",
              "    fill: var(--disabled-fill-color);\n",
              "    box-shadow: none;\n",
              "  }\n",
              "\n",
              "  .colab-df-spinner {\n",
              "    border: 2px solid var(--fill-color);\n",
              "    border-color: transparent;\n",
              "    border-bottom-color: var(--fill-color);\n",
              "    animation:\n",
              "      spin 1s steps(1) infinite;\n",
              "  }\n",
              "\n",
              "  @keyframes spin {\n",
              "    0% {\n",
              "      border-color: transparent;\n",
              "      border-bottom-color: var(--fill-color);\n",
              "      border-left-color: var(--fill-color);\n",
              "    }\n",
              "    20% {\n",
              "      border-color: transparent;\n",
              "      border-left-color: var(--fill-color);\n",
              "      border-top-color: var(--fill-color);\n",
              "    }\n",
              "    30% {\n",
              "      border-color: transparent;\n",
              "      border-left-color: var(--fill-color);\n",
              "      border-top-color: var(--fill-color);\n",
              "      border-right-color: var(--fill-color);\n",
              "    }\n",
              "    40% {\n",
              "      border-color: transparent;\n",
              "      border-right-color: var(--fill-color);\n",
              "      border-top-color: var(--fill-color);\n",
              "    }\n",
              "    60% {\n",
              "      border-color: transparent;\n",
              "      border-right-color: var(--fill-color);\n",
              "    }\n",
              "    80% {\n",
              "      border-color: transparent;\n",
              "      border-right-color: var(--fill-color);\n",
              "      border-bottom-color: var(--fill-color);\n",
              "    }\n",
              "    90% {\n",
              "      border-color: transparent;\n",
              "      border-bottom-color: var(--fill-color);\n",
              "    }\n",
              "  }\n",
              "</style>\n",
              "\n",
              "  <script>\n",
              "    async function quickchart(key) {\n",
              "      const quickchartButtonEl =\n",
              "        document.querySelector('#' + key + ' button');\n",
              "      quickchartButtonEl.disabled = true;  // To prevent multiple clicks.\n",
              "      quickchartButtonEl.classList.add('colab-df-spinner');\n",
              "      try {\n",
              "        const charts = await google.colab.kernel.invokeFunction(\n",
              "            'suggestCharts', [key], {});\n",
              "      } catch (error) {\n",
              "        console.error('Error during call to suggestCharts:', error);\n",
              "      }\n",
              "      quickchartButtonEl.classList.remove('colab-df-spinner');\n",
              "      quickchartButtonEl.classList.add('colab-df-quickchart-complete');\n",
              "    }\n",
              "    (() => {\n",
              "      let quickchartButtonEl =\n",
              "        document.querySelector('#df-db34701c-a570-48c6-b701-5bc097b3064c button');\n",
              "      quickchartButtonEl.style.display =\n",
              "        google.colab.kernel.accessAllowed ? 'block' : 'none';\n",
              "    })();\n",
              "  </script>\n",
              "</div>\n",
              "    </div>\n",
              "  </div>\n"
            ]
          },
          "metadata": {},
          "execution_count": 21
        }
      ]
    },
    {
      "cell_type": "code",
      "source": [
        "data.describe()"
      ],
      "metadata": {
        "colab": {
          "base_uri": "https://localhost:8080/",
          "height": 367
        },
        "id": "e09M278UPWae",
        "outputId": "30dfee03-42f7-46fa-b49d-8080a4db67f0"
      },
      "execution_count": 22,
      "outputs": [
        {
          "output_type": "execute_result",
          "data": {
            "text/plain": [
              "       Unnamed: 0         age         sex      height      weight  \\\n",
              "count  450.000000  450.000000  450.000000  450.000000  450.000000   \n",
              "mean   225.486667   46.675556    0.551111  163.842222   68.437778   \n",
              "std    130.785552   16.214228    0.497934   10.412195   16.132715   \n",
              "min      0.000000    1.000000    0.000000  105.000000   10.000000   \n",
              "25%    112.250000   36.000000    0.000000  160.000000   59.000000   \n",
              "50%    225.500000   47.000000    1.000000  164.000000   68.000000   \n",
              "75%    338.750000   58.000000    1.000000  170.000000   79.000000   \n",
              "max    451.000000   83.000000    1.000000  190.000000  176.000000   \n",
              "\n",
              "       qrs_duration  p-r_interval  q-t_interval  t_interval  p_interval  ...  \\\n",
              "count    450.000000    450.000000    450.000000  450.000000  450.000000  ...   \n",
              "mean      88.942222    155.195556    367.797778  170.086667   90.035556  ...   \n",
              "std       15.394913     44.918555     32.260307   35.644734   25.834294  ...   \n",
              "min       55.000000      0.000000    240.000000  108.000000    0.000000  ...   \n",
              "25%       80.000000    142.000000    350.000000  148.000000   79.000000  ...   \n",
              "50%       86.500000    157.000000    367.500000  162.000000   91.000000  ...   \n",
              "75%       94.000000    175.000000    384.000000  179.000000  102.000000  ...   \n",
              "max      188.000000    524.000000    509.000000  381.000000  205.000000  ...   \n",
              "\n",
              "       of_channel_v6.1  of_channel_v6.2  of_channel_v6.3  of_channel_v6.4  \\\n",
              "count       450.000000       450.000000       450.000000       450.000000   \n",
              "mean         -0.278667         9.067111        -1.441333         0.004000   \n",
              "std           0.549580         3.468655         1.992218         0.050229   \n",
              "min          -4.100000         0.000000       -28.600000         0.000000   \n",
              "25%          -0.400000         6.600000        -2.100000         0.000000   \n",
              "50%           0.000000         8.800000        -1.100000         0.000000   \n",
              "75%           0.000000        11.200000         0.000000         0.000000   \n",
              "max           0.000000        23.600000         0.000000         0.800000   \n",
              "\n",
              "       of_channel_v6.5  of_channel_v6.6  of_channel_v6.7  of_channel_v6.8  \\\n",
              "count            450.0       450.000000       450.000000       450.000000   \n",
              "mean               0.0         0.513111         1.220667        19.432222   \n",
              "std                0.0         0.346322         1.427738        13.430692   \n",
              "min                0.0        -0.800000        -6.000000       -44.200000   \n",
              "25%                0.0         0.400000         0.500000        11.500000   \n",
              "50%                0.0         0.500000         1.350000        18.150000   \n",
              "75%                0.0         0.700000         2.100000        25.875000   \n",
              "max                0.0         2.400000         6.000000        88.800000   \n",
              "\n",
              "       of_channel_v6.9     classes  \n",
              "count       450.000000  450.000000  \n",
              "mean         29.588222    3.875556  \n",
              "std          18.453662    4.416267  \n",
              "min         -38.600000    1.000000  \n",
              "25%          17.725000    1.000000  \n",
              "50%          28.100000    1.000000  \n",
              "75%          41.175000    6.000000  \n",
              "max         115.900000   16.000000  \n",
              "\n",
              "[8 rows x 281 columns]"
            ],
            "text/html": [
              "\n",
              "  <div id=\"df-a04b3284-3a10-40a9-ad07-046d4d8f06eb\" class=\"colab-df-container\">\n",
              "    <div>\n",
              "<style scoped>\n",
              "    .dataframe tbody tr th:only-of-type {\n",
              "        vertical-align: middle;\n",
              "    }\n",
              "\n",
              "    .dataframe tbody tr th {\n",
              "        vertical-align: top;\n",
              "    }\n",
              "\n",
              "    .dataframe thead th {\n",
              "        text-align: right;\n",
              "    }\n",
              "</style>\n",
              "<table border=\"1\" class=\"dataframe\">\n",
              "  <thead>\n",
              "    <tr style=\"text-align: right;\">\n",
              "      <th></th>\n",
              "      <th>Unnamed: 0</th>\n",
              "      <th>age</th>\n",
              "      <th>sex</th>\n",
              "      <th>height</th>\n",
              "      <th>weight</th>\n",
              "      <th>qrs_duration</th>\n",
              "      <th>p-r_interval</th>\n",
              "      <th>q-t_interval</th>\n",
              "      <th>t_interval</th>\n",
              "      <th>p_interval</th>\n",
              "      <th>...</th>\n",
              "      <th>of_channel_v6.1</th>\n",
              "      <th>of_channel_v6.2</th>\n",
              "      <th>of_channel_v6.3</th>\n",
              "      <th>of_channel_v6.4</th>\n",
              "      <th>of_channel_v6.5</th>\n",
              "      <th>of_channel_v6.6</th>\n",
              "      <th>of_channel_v6.7</th>\n",
              "      <th>of_channel_v6.8</th>\n",
              "      <th>of_channel_v6.9</th>\n",
              "      <th>classes</th>\n",
              "    </tr>\n",
              "  </thead>\n",
              "  <tbody>\n",
              "    <tr>\n",
              "      <th>count</th>\n",
              "      <td>450.000000</td>\n",
              "      <td>450.000000</td>\n",
              "      <td>450.000000</td>\n",
              "      <td>450.000000</td>\n",
              "      <td>450.000000</td>\n",
              "      <td>450.000000</td>\n",
              "      <td>450.000000</td>\n",
              "      <td>450.000000</td>\n",
              "      <td>450.000000</td>\n",
              "      <td>450.000000</td>\n",
              "      <td>...</td>\n",
              "      <td>450.000000</td>\n",
              "      <td>450.000000</td>\n",
              "      <td>450.000000</td>\n",
              "      <td>450.000000</td>\n",
              "      <td>450.0</td>\n",
              "      <td>450.000000</td>\n",
              "      <td>450.000000</td>\n",
              "      <td>450.000000</td>\n",
              "      <td>450.000000</td>\n",
              "      <td>450.000000</td>\n",
              "    </tr>\n",
              "    <tr>\n",
              "      <th>mean</th>\n",
              "      <td>225.486667</td>\n",
              "      <td>46.675556</td>\n",
              "      <td>0.551111</td>\n",
              "      <td>163.842222</td>\n",
              "      <td>68.437778</td>\n",
              "      <td>88.942222</td>\n",
              "      <td>155.195556</td>\n",
              "      <td>367.797778</td>\n",
              "      <td>170.086667</td>\n",
              "      <td>90.035556</td>\n",
              "      <td>...</td>\n",
              "      <td>-0.278667</td>\n",
              "      <td>9.067111</td>\n",
              "      <td>-1.441333</td>\n",
              "      <td>0.004000</td>\n",
              "      <td>0.0</td>\n",
              "      <td>0.513111</td>\n",
              "      <td>1.220667</td>\n",
              "      <td>19.432222</td>\n",
              "      <td>29.588222</td>\n",
              "      <td>3.875556</td>\n",
              "    </tr>\n",
              "    <tr>\n",
              "      <th>std</th>\n",
              "      <td>130.785552</td>\n",
              "      <td>16.214228</td>\n",
              "      <td>0.497934</td>\n",
              "      <td>10.412195</td>\n",
              "      <td>16.132715</td>\n",
              "      <td>15.394913</td>\n",
              "      <td>44.918555</td>\n",
              "      <td>32.260307</td>\n",
              "      <td>35.644734</td>\n",
              "      <td>25.834294</td>\n",
              "      <td>...</td>\n",
              "      <td>0.549580</td>\n",
              "      <td>3.468655</td>\n",
              "      <td>1.992218</td>\n",
              "      <td>0.050229</td>\n",
              "      <td>0.0</td>\n",
              "      <td>0.346322</td>\n",
              "      <td>1.427738</td>\n",
              "      <td>13.430692</td>\n",
              "      <td>18.453662</td>\n",
              "      <td>4.416267</td>\n",
              "    </tr>\n",
              "    <tr>\n",
              "      <th>min</th>\n",
              "      <td>0.000000</td>\n",
              "      <td>1.000000</td>\n",
              "      <td>0.000000</td>\n",
              "      <td>105.000000</td>\n",
              "      <td>10.000000</td>\n",
              "      <td>55.000000</td>\n",
              "      <td>0.000000</td>\n",
              "      <td>240.000000</td>\n",
              "      <td>108.000000</td>\n",
              "      <td>0.000000</td>\n",
              "      <td>...</td>\n",
              "      <td>-4.100000</td>\n",
              "      <td>0.000000</td>\n",
              "      <td>-28.600000</td>\n",
              "      <td>0.000000</td>\n",
              "      <td>0.0</td>\n",
              "      <td>-0.800000</td>\n",
              "      <td>-6.000000</td>\n",
              "      <td>-44.200000</td>\n",
              "      <td>-38.600000</td>\n",
              "      <td>1.000000</td>\n",
              "    </tr>\n",
              "    <tr>\n",
              "      <th>25%</th>\n",
              "      <td>112.250000</td>\n",
              "      <td>36.000000</td>\n",
              "      <td>0.000000</td>\n",
              "      <td>160.000000</td>\n",
              "      <td>59.000000</td>\n",
              "      <td>80.000000</td>\n",
              "      <td>142.000000</td>\n",
              "      <td>350.000000</td>\n",
              "      <td>148.000000</td>\n",
              "      <td>79.000000</td>\n",
              "      <td>...</td>\n",
              "      <td>-0.400000</td>\n",
              "      <td>6.600000</td>\n",
              "      <td>-2.100000</td>\n",
              "      <td>0.000000</td>\n",
              "      <td>0.0</td>\n",
              "      <td>0.400000</td>\n",
              "      <td>0.500000</td>\n",
              "      <td>11.500000</td>\n",
              "      <td>17.725000</td>\n",
              "      <td>1.000000</td>\n",
              "    </tr>\n",
              "    <tr>\n",
              "      <th>50%</th>\n",
              "      <td>225.500000</td>\n",
              "      <td>47.000000</td>\n",
              "      <td>1.000000</td>\n",
              "      <td>164.000000</td>\n",
              "      <td>68.000000</td>\n",
              "      <td>86.500000</td>\n",
              "      <td>157.000000</td>\n",
              "      <td>367.500000</td>\n",
              "      <td>162.000000</td>\n",
              "      <td>91.000000</td>\n",
              "      <td>...</td>\n",
              "      <td>0.000000</td>\n",
              "      <td>8.800000</td>\n",
              "      <td>-1.100000</td>\n",
              "      <td>0.000000</td>\n",
              "      <td>0.0</td>\n",
              "      <td>0.500000</td>\n",
              "      <td>1.350000</td>\n",
              "      <td>18.150000</td>\n",
              "      <td>28.100000</td>\n",
              "      <td>1.000000</td>\n",
              "    </tr>\n",
              "    <tr>\n",
              "      <th>75%</th>\n",
              "      <td>338.750000</td>\n",
              "      <td>58.000000</td>\n",
              "      <td>1.000000</td>\n",
              "      <td>170.000000</td>\n",
              "      <td>79.000000</td>\n",
              "      <td>94.000000</td>\n",
              "      <td>175.000000</td>\n",
              "      <td>384.000000</td>\n",
              "      <td>179.000000</td>\n",
              "      <td>102.000000</td>\n",
              "      <td>...</td>\n",
              "      <td>0.000000</td>\n",
              "      <td>11.200000</td>\n",
              "      <td>0.000000</td>\n",
              "      <td>0.000000</td>\n",
              "      <td>0.0</td>\n",
              "      <td>0.700000</td>\n",
              "      <td>2.100000</td>\n",
              "      <td>25.875000</td>\n",
              "      <td>41.175000</td>\n",
              "      <td>6.000000</td>\n",
              "    </tr>\n",
              "    <tr>\n",
              "      <th>max</th>\n",
              "      <td>451.000000</td>\n",
              "      <td>83.000000</td>\n",
              "      <td>1.000000</td>\n",
              "      <td>190.000000</td>\n",
              "      <td>176.000000</td>\n",
              "      <td>188.000000</td>\n",
              "      <td>524.000000</td>\n",
              "      <td>509.000000</td>\n",
              "      <td>381.000000</td>\n",
              "      <td>205.000000</td>\n",
              "      <td>...</td>\n",
              "      <td>0.000000</td>\n",
              "      <td>23.600000</td>\n",
              "      <td>0.000000</td>\n",
              "      <td>0.800000</td>\n",
              "      <td>0.0</td>\n",
              "      <td>2.400000</td>\n",
              "      <td>6.000000</td>\n",
              "      <td>88.800000</td>\n",
              "      <td>115.900000</td>\n",
              "      <td>16.000000</td>\n",
              "    </tr>\n",
              "  </tbody>\n",
              "</table>\n",
              "<p>8 rows × 281 columns</p>\n",
              "</div>\n",
              "    <div class=\"colab-df-buttons\">\n",
              "\n",
              "  <div class=\"colab-df-container\">\n",
              "    <button class=\"colab-df-convert\" onclick=\"convertToInteractive('df-a04b3284-3a10-40a9-ad07-046d4d8f06eb')\"\n",
              "            title=\"Convert this dataframe to an interactive table.\"\n",
              "            style=\"display:none;\">\n",
              "\n",
              "  <svg xmlns=\"http://www.w3.org/2000/svg\" height=\"24px\" viewBox=\"0 -960 960 960\">\n",
              "    <path d=\"M120-120v-720h720v720H120Zm60-500h600v-160H180v160Zm220 220h160v-160H400v160Zm0 220h160v-160H400v160ZM180-400h160v-160H180v160Zm440 0h160v-160H620v160ZM180-180h160v-160H180v160Zm440 0h160v-160H620v160Z\"/>\n",
              "  </svg>\n",
              "    </button>\n",
              "\n",
              "  <style>\n",
              "    .colab-df-container {\n",
              "      display:flex;\n",
              "      gap: 12px;\n",
              "    }\n",
              "\n",
              "    .colab-df-convert {\n",
              "      background-color: #E8F0FE;\n",
              "      border: none;\n",
              "      border-radius: 50%;\n",
              "      cursor: pointer;\n",
              "      display: none;\n",
              "      fill: #1967D2;\n",
              "      height: 32px;\n",
              "      padding: 0 0 0 0;\n",
              "      width: 32px;\n",
              "    }\n",
              "\n",
              "    .colab-df-convert:hover {\n",
              "      background-color: #E2EBFA;\n",
              "      box-shadow: 0px 1px 2px rgba(60, 64, 67, 0.3), 0px 1px 3px 1px rgba(60, 64, 67, 0.15);\n",
              "      fill: #174EA6;\n",
              "    }\n",
              "\n",
              "    .colab-df-buttons div {\n",
              "      margin-bottom: 4px;\n",
              "    }\n",
              "\n",
              "    [theme=dark] .colab-df-convert {\n",
              "      background-color: #3B4455;\n",
              "      fill: #D2E3FC;\n",
              "    }\n",
              "\n",
              "    [theme=dark] .colab-df-convert:hover {\n",
              "      background-color: #434B5C;\n",
              "      box-shadow: 0px 1px 3px 1px rgba(0, 0, 0, 0.15);\n",
              "      filter: drop-shadow(0px 1px 2px rgba(0, 0, 0, 0.3));\n",
              "      fill: #FFFFFF;\n",
              "    }\n",
              "  </style>\n",
              "\n",
              "    <script>\n",
              "      const buttonEl =\n",
              "        document.querySelector('#df-a04b3284-3a10-40a9-ad07-046d4d8f06eb button.colab-df-convert');\n",
              "      buttonEl.style.display =\n",
              "        google.colab.kernel.accessAllowed ? 'block' : 'none';\n",
              "\n",
              "      async function convertToInteractive(key) {\n",
              "        const element = document.querySelector('#df-a04b3284-3a10-40a9-ad07-046d4d8f06eb');\n",
              "        const dataTable =\n",
              "          await google.colab.kernel.invokeFunction('convertToInteractive',\n",
              "                                                    [key], {});\n",
              "        if (!dataTable) return;\n",
              "\n",
              "        const docLinkHtml = 'Like what you see? Visit the ' +\n",
              "          '<a target=\"_blank\" href=https://colab.research.google.com/notebooks/data_table.ipynb>data table notebook</a>'\n",
              "          + ' to learn more about interactive tables.';\n",
              "        element.innerHTML = '';\n",
              "        dataTable['output_type'] = 'display_data';\n",
              "        await google.colab.output.renderOutput(dataTable, element);\n",
              "        const docLink = document.createElement('div');\n",
              "        docLink.innerHTML = docLinkHtml;\n",
              "        element.appendChild(docLink);\n",
              "      }\n",
              "    </script>\n",
              "  </div>\n",
              "\n",
              "\n",
              "<div id=\"df-85cbcaef-47e4-4e0a-a1d6-44bb96a41505\">\n",
              "  <button class=\"colab-df-quickchart\" onclick=\"quickchart('df-85cbcaef-47e4-4e0a-a1d6-44bb96a41505')\"\n",
              "            title=\"Suggest charts\"\n",
              "            style=\"display:none;\">\n",
              "\n",
              "<svg xmlns=\"http://www.w3.org/2000/svg\" height=\"24px\"viewBox=\"0 0 24 24\"\n",
              "     width=\"24px\">\n",
              "    <g>\n",
              "        <path d=\"M19 3H5c-1.1 0-2 .9-2 2v14c0 1.1.9 2 2 2h14c1.1 0 2-.9 2-2V5c0-1.1-.9-2-2-2zM9 17H7v-7h2v7zm4 0h-2V7h2v10zm4 0h-2v-4h2v4z\"/>\n",
              "    </g>\n",
              "</svg>\n",
              "  </button>\n",
              "\n",
              "<style>\n",
              "  .colab-df-quickchart {\n",
              "      --bg-color: #E8F0FE;\n",
              "      --fill-color: #1967D2;\n",
              "      --hover-bg-color: #E2EBFA;\n",
              "      --hover-fill-color: #174EA6;\n",
              "      --disabled-fill-color: #AAA;\n",
              "      --disabled-bg-color: #DDD;\n",
              "  }\n",
              "\n",
              "  [theme=dark] .colab-df-quickchart {\n",
              "      --bg-color: #3B4455;\n",
              "      --fill-color: #D2E3FC;\n",
              "      --hover-bg-color: #434B5C;\n",
              "      --hover-fill-color: #FFFFFF;\n",
              "      --disabled-bg-color: #3B4455;\n",
              "      --disabled-fill-color: #666;\n",
              "  }\n",
              "\n",
              "  .colab-df-quickchart {\n",
              "    background-color: var(--bg-color);\n",
              "    border: none;\n",
              "    border-radius: 50%;\n",
              "    cursor: pointer;\n",
              "    display: none;\n",
              "    fill: var(--fill-color);\n",
              "    height: 32px;\n",
              "    padding: 0;\n",
              "    width: 32px;\n",
              "  }\n",
              "\n",
              "  .colab-df-quickchart:hover {\n",
              "    background-color: var(--hover-bg-color);\n",
              "    box-shadow: 0 1px 2px rgba(60, 64, 67, 0.3), 0 1px 3px 1px rgba(60, 64, 67, 0.15);\n",
              "    fill: var(--button-hover-fill-color);\n",
              "  }\n",
              "\n",
              "  .colab-df-quickchart-complete:disabled,\n",
              "  .colab-df-quickchart-complete:disabled:hover {\n",
              "    background-color: var(--disabled-bg-color);\n",
              "    fill: var(--disabled-fill-color);\n",
              "    box-shadow: none;\n",
              "  }\n",
              "\n",
              "  .colab-df-spinner {\n",
              "    border: 2px solid var(--fill-color);\n",
              "    border-color: transparent;\n",
              "    border-bottom-color: var(--fill-color);\n",
              "    animation:\n",
              "      spin 1s steps(1) infinite;\n",
              "  }\n",
              "\n",
              "  @keyframes spin {\n",
              "    0% {\n",
              "      border-color: transparent;\n",
              "      border-bottom-color: var(--fill-color);\n",
              "      border-left-color: var(--fill-color);\n",
              "    }\n",
              "    20% {\n",
              "      border-color: transparent;\n",
              "      border-left-color: var(--fill-color);\n",
              "      border-top-color: var(--fill-color);\n",
              "    }\n",
              "    30% {\n",
              "      border-color: transparent;\n",
              "      border-left-color: var(--fill-color);\n",
              "      border-top-color: var(--fill-color);\n",
              "      border-right-color: var(--fill-color);\n",
              "    }\n",
              "    40% {\n",
              "      border-color: transparent;\n",
              "      border-right-color: var(--fill-color);\n",
              "      border-top-color: var(--fill-color);\n",
              "    }\n",
              "    60% {\n",
              "      border-color: transparent;\n",
              "      border-right-color: var(--fill-color);\n",
              "    }\n",
              "    80% {\n",
              "      border-color: transparent;\n",
              "      border-right-color: var(--fill-color);\n",
              "      border-bottom-color: var(--fill-color);\n",
              "    }\n",
              "    90% {\n",
              "      border-color: transparent;\n",
              "      border-bottom-color: var(--fill-color);\n",
              "    }\n",
              "  }\n",
              "</style>\n",
              "\n",
              "  <script>\n",
              "    async function quickchart(key) {\n",
              "      const quickchartButtonEl =\n",
              "        document.querySelector('#' + key + ' button');\n",
              "      quickchartButtonEl.disabled = true;  // To prevent multiple clicks.\n",
              "      quickchartButtonEl.classList.add('colab-df-spinner');\n",
              "      try {\n",
              "        const charts = await google.colab.kernel.invokeFunction(\n",
              "            'suggestCharts', [key], {});\n",
              "      } catch (error) {\n",
              "        console.error('Error during call to suggestCharts:', error);\n",
              "      }\n",
              "      quickchartButtonEl.classList.remove('colab-df-spinner');\n",
              "      quickchartButtonEl.classList.add('colab-df-quickchart-complete');\n",
              "    }\n",
              "    (() => {\n",
              "      let quickchartButtonEl =\n",
              "        document.querySelector('#df-85cbcaef-47e4-4e0a-a1d6-44bb96a41505 button');\n",
              "      quickchartButtonEl.style.display =\n",
              "        google.colab.kernel.accessAllowed ? 'block' : 'none';\n",
              "    })();\n",
              "  </script>\n",
              "</div>\n",
              "    </div>\n",
              "  </div>\n"
            ]
          },
          "metadata": {},
          "execution_count": 22
        }
      ]
    },
    {
      "cell_type": "code",
      "source": [
        "#folding data\n",
        "fold1 =(data.iloc[0:150].reset_index(drop=True), data.iloc[150:451].reset_index(drop=True))\n",
        "fold2 =(data.iloc[150:300].reset_index(drop=True), pd.concat([data.iloc[0:150], data.iloc[300:451]]).reset_index(drop=True))\n",
        "fold3 =(data.iloc[300:451].reset_index(drop=True), data.iloc[0:300].reset_index(drop=True))\n",
        "\n",
        "test, train = fold2\n",
        "print(train)"
      ],
      "metadata": {
        "colab": {
          "base_uri": "https://localhost:8080/"
        },
        "id": "lg5Nsa_XQDx_",
        "outputId": "51372682-0ca1-4bd5-f518-1e70bb358d73"
      },
      "execution_count": 23,
      "outputs": [
        {
          "output_type": "stream",
          "name": "stdout",
          "text": [
            "     Unnamed: 0  age  sex  height  weight  qrs_duration  p-r_interval  \\\n",
            "0             0   75    0     190      80            91           193   \n",
            "1             1   56    1     165      64            81           174   \n",
            "2             2   54    0     172      95           138           163   \n",
            "3             3   55    0     175      94           100           202   \n",
            "4             4   75    0     190      80            88           181   \n",
            "..          ...  ...  ...     ...     ...           ...           ...   \n",
            "295         447   53    1     160      70            80           199   \n",
            "296         448   37    0     190      85           100           137   \n",
            "297         449   36    0     166      68           108           176   \n",
            "298         450   32    1     155      55            93           106   \n",
            "299         451   78    1     160      70            79           127   \n",
            "\n",
            "     q-t_interval  t_interval  p_interval  ...  of_channel_v6.1  \\\n",
            "0             371         174         121  ...              0.0   \n",
            "1             401         149          39  ...              0.0   \n",
            "2             386         185         102  ...              0.0   \n",
            "3             380         179         143  ...              0.0   \n",
            "4             360         177         103  ...              0.0   \n",
            "..            ...         ...         ...  ...              ...   \n",
            "295           382         154         117  ...              0.0   \n",
            "296           361         201          73  ...              0.0   \n",
            "297           365         194         116  ...              0.0   \n",
            "298           386         218          63  ...             -0.4   \n",
            "299           364         138          78  ...              0.0   \n",
            "\n",
            "     of_channel_v6.2  of_channel_v6.3  of_channel_v6.4  of_channel_v6.5  \\\n",
            "0                9.0             -0.9              0.0              0.0   \n",
            "1                8.5              0.0              0.0              0.0   \n",
            "2                9.5             -2.4              0.0              0.0   \n",
            "3               12.2             -2.2              0.0              0.0   \n",
            "4               13.1             -3.6              0.0              0.0   \n",
            "..               ...              ...              ...              ...   \n",
            "295              4.3             -5.0              0.0              0.0   \n",
            "296             15.6             -1.6              0.0              0.0   \n",
            "297             16.3            -28.6              0.0              0.0   \n",
            "298             12.0             -0.7              0.0              0.0   \n",
            "299             10.4             -1.8              0.0              0.0   \n",
            "\n",
            "     of_channel_v6.6  of_channel_v6.7  of_channel_v6.8  of_channel_v6.9  \\\n",
            "0                0.9              2.9             23.3             49.4   \n",
            "1                0.2              2.1             20.4             38.8   \n",
            "2                0.3              3.4             12.3             49.0   \n",
            "3                0.4              2.6             34.6             61.6   \n",
            "4               -0.1              3.9             25.4             62.8   \n",
            "..               ...              ...              ...              ...   \n",
            "295              0.7              0.6             -4.4             -0.5   \n",
            "296              0.4              2.4             38.0             62.4   \n",
            "297              1.5              1.0            -44.2            -33.2   \n",
            "298              0.5              2.4             25.0             46.6   \n",
            "299              0.5              1.6             21.3             32.8   \n",
            "\n",
            "     classes  \n",
            "0          8  \n",
            "1          6  \n",
            "2         10  \n",
            "3          1  \n",
            "4          7  \n",
            "..       ...  \n",
            "295        1  \n",
            "296       10  \n",
            "297        2  \n",
            "298        1  \n",
            "299        1  \n",
            "\n",
            "[300 rows x 281 columns]\n"
          ]
        }
      ]
    },
    {
      "cell_type": "code",
      "source": [
        "# Normalizations\n",
        "def norm(data):\n",
        "  data = (data - data.min()) / (data.max() - data.min())\n",
        "  return data"
      ],
      "metadata": {
        "id": "WG1J442BPcle"
      },
      "execution_count": 24,
      "outputs": []
    },
    {
      "cell_type": "code",
      "source": [
        "# Assign fitur dan kelas\n",
        "X = data.drop('classes', axis=1)\n",
        "y = data.classes"
      ],
      "metadata": {
        "id": "P1SQ0zoFPfuG"
      },
      "execution_count": 25,
      "outputs": []
    },
    {
      "cell_type": "code",
      "source": [
        "X = norm(X) # Melakukan normalisasi untuk data fitur\n",
        "X"
      ],
      "metadata": {
        "colab": {
          "base_uri": "https://localhost:8080/",
          "height": 461
        },
        "id": "lJfUXyqnPsjn",
        "outputId": "15d623bf-5542-4bcc-d425-32d3a41c7d19"
      },
      "execution_count": 26,
      "outputs": [
        {
          "output_type": "execute_result",
          "data": {
            "text/plain": [
              "     Unnamed: 0       age  sex    height    weight  qrs_duration  \\\n",
              "0      0.000000  0.902439  0.0  1.000000  0.421687      0.270677   \n",
              "1      0.002217  0.670732  1.0  0.705882  0.325301      0.195489   \n",
              "2      0.004435  0.646341  0.0  0.788235  0.512048      0.624060   \n",
              "3      0.006652  0.658537  0.0  0.823529  0.506024      0.338346   \n",
              "4      0.008869  0.902439  0.0  1.000000  0.421687      0.248120   \n",
              "..          ...       ...  ...       ...       ...           ...   \n",
              "445    0.991131  0.634146  1.0  0.647059  0.361446      0.187970   \n",
              "446    0.993348  0.439024  0.0  1.000000  0.451807      0.338346   \n",
              "447    0.995565  0.426829  0.0  0.717647  0.349398      0.398496   \n",
              "448    0.997783  0.378049  1.0  0.588235  0.271084      0.285714   \n",
              "449    1.000000  0.939024  1.0  0.647059  0.361446      0.180451   \n",
              "\n",
              "     p-r_interval  q-t_interval  t_interval  p_interval  ...  of_channel_v6  \\\n",
              "0        0.368321      0.486989    0.241758    0.590244  ...       0.638554   \n",
              "1        0.332061      0.598513    0.150183    0.190244  ...       0.614458   \n",
              "2        0.311069      0.542751    0.282051    0.497561  ...       0.783133   \n",
              "3        0.385496      0.520446    0.260073    0.697561  ...       0.686747   \n",
              "4        0.345420      0.446097    0.252747    0.502439  ...       0.626506   \n",
              "..            ...           ...         ...         ...  ...            ...   \n",
              "445      0.379771      0.527881    0.168498    0.570732  ...       0.674699   \n",
              "446      0.261450      0.449814    0.340659    0.356098  ...       0.614458   \n",
              "447      0.335878      0.464684    0.315018    0.565854  ...       0.819277   \n",
              "448      0.202290      0.542751    0.402930    0.307317  ...       0.698795   \n",
              "449      0.242366      0.460967    0.109890    0.380488  ...       0.638554   \n",
              "\n",
              "     of_channel_v6.1  of_channel_v6.2  of_channel_v6.3  of_channel_v6.4  \\\n",
              "0           1.000000         0.381356         0.968531              0.0   \n",
              "1           1.000000         0.360169         1.000000              0.0   \n",
              "2           1.000000         0.402542         0.916084              0.0   \n",
              "3           1.000000         0.516949         0.923077              0.0   \n",
              "4           1.000000         0.555085         0.874126              0.0   \n",
              "..               ...              ...              ...              ...   \n",
              "445         1.000000         0.182203         0.825175              0.0   \n",
              "446         1.000000         0.661017         0.944056              0.0   \n",
              "447         1.000000         0.690678         0.000000              0.0   \n",
              "448         0.902439         0.508475         0.975524              0.0   \n",
              "449         1.000000         0.440678         0.937063              0.0   \n",
              "\n",
              "     of_channel_v6.5  of_channel_v6.6  of_channel_v6.7  of_channel_v6.8  \\\n",
              "0                NaN          0.53125         0.741667         0.507519   \n",
              "1                NaN          0.31250         0.675000         0.485714   \n",
              "2                NaN          0.34375         0.783333         0.424812   \n",
              "3                NaN          0.37500         0.716667         0.592481   \n",
              "4                NaN          0.21875         0.825000         0.523308   \n",
              "..               ...              ...              ...              ...   \n",
              "445              NaN          0.46875         0.550000         0.299248   \n",
              "446              NaN          0.37500         0.700000         0.618045   \n",
              "447              NaN          0.71875         0.583333         0.000000   \n",
              "448              NaN          0.40625         0.700000         0.520301   \n",
              "449              NaN          0.40625         0.633333         0.492481   \n",
              "\n",
              "     of_channel_v6.9  \n",
              "0           0.569579  \n",
              "1           0.500971  \n",
              "2           0.566990  \n",
              "3           0.648544  \n",
              "4           0.656311  \n",
              "..               ...  \n",
              "445         0.246602  \n",
              "446         0.653722  \n",
              "447         0.034951  \n",
              "448         0.551456  \n",
              "449         0.462136  \n",
              "\n",
              "[450 rows x 280 columns]"
            ],
            "text/html": [
              "\n",
              "  <div id=\"df-3d019f64-8382-4e11-927a-2fd2e2bc3a20\" class=\"colab-df-container\">\n",
              "    <div>\n",
              "<style scoped>\n",
              "    .dataframe tbody tr th:only-of-type {\n",
              "        vertical-align: middle;\n",
              "    }\n",
              "\n",
              "    .dataframe tbody tr th {\n",
              "        vertical-align: top;\n",
              "    }\n",
              "\n",
              "    .dataframe thead th {\n",
              "        text-align: right;\n",
              "    }\n",
              "</style>\n",
              "<table border=\"1\" class=\"dataframe\">\n",
              "  <thead>\n",
              "    <tr style=\"text-align: right;\">\n",
              "      <th></th>\n",
              "      <th>Unnamed: 0</th>\n",
              "      <th>age</th>\n",
              "      <th>sex</th>\n",
              "      <th>height</th>\n",
              "      <th>weight</th>\n",
              "      <th>qrs_duration</th>\n",
              "      <th>p-r_interval</th>\n",
              "      <th>q-t_interval</th>\n",
              "      <th>t_interval</th>\n",
              "      <th>p_interval</th>\n",
              "      <th>...</th>\n",
              "      <th>of_channel_v6</th>\n",
              "      <th>of_channel_v6.1</th>\n",
              "      <th>of_channel_v6.2</th>\n",
              "      <th>of_channel_v6.3</th>\n",
              "      <th>of_channel_v6.4</th>\n",
              "      <th>of_channel_v6.5</th>\n",
              "      <th>of_channel_v6.6</th>\n",
              "      <th>of_channel_v6.7</th>\n",
              "      <th>of_channel_v6.8</th>\n",
              "      <th>of_channel_v6.9</th>\n",
              "    </tr>\n",
              "  </thead>\n",
              "  <tbody>\n",
              "    <tr>\n",
              "      <th>0</th>\n",
              "      <td>0.000000</td>\n",
              "      <td>0.902439</td>\n",
              "      <td>0.0</td>\n",
              "      <td>1.000000</td>\n",
              "      <td>0.421687</td>\n",
              "      <td>0.270677</td>\n",
              "      <td>0.368321</td>\n",
              "      <td>0.486989</td>\n",
              "      <td>0.241758</td>\n",
              "      <td>0.590244</td>\n",
              "      <td>...</td>\n",
              "      <td>0.638554</td>\n",
              "      <td>1.000000</td>\n",
              "      <td>0.381356</td>\n",
              "      <td>0.968531</td>\n",
              "      <td>0.0</td>\n",
              "      <td>NaN</td>\n",
              "      <td>0.53125</td>\n",
              "      <td>0.741667</td>\n",
              "      <td>0.507519</td>\n",
              "      <td>0.569579</td>\n",
              "    </tr>\n",
              "    <tr>\n",
              "      <th>1</th>\n",
              "      <td>0.002217</td>\n",
              "      <td>0.670732</td>\n",
              "      <td>1.0</td>\n",
              "      <td>0.705882</td>\n",
              "      <td>0.325301</td>\n",
              "      <td>0.195489</td>\n",
              "      <td>0.332061</td>\n",
              "      <td>0.598513</td>\n",
              "      <td>0.150183</td>\n",
              "      <td>0.190244</td>\n",
              "      <td>...</td>\n",
              "      <td>0.614458</td>\n",
              "      <td>1.000000</td>\n",
              "      <td>0.360169</td>\n",
              "      <td>1.000000</td>\n",
              "      <td>0.0</td>\n",
              "      <td>NaN</td>\n",
              "      <td>0.31250</td>\n",
              "      <td>0.675000</td>\n",
              "      <td>0.485714</td>\n",
              "      <td>0.500971</td>\n",
              "    </tr>\n",
              "    <tr>\n",
              "      <th>2</th>\n",
              "      <td>0.004435</td>\n",
              "      <td>0.646341</td>\n",
              "      <td>0.0</td>\n",
              "      <td>0.788235</td>\n",
              "      <td>0.512048</td>\n",
              "      <td>0.624060</td>\n",
              "      <td>0.311069</td>\n",
              "      <td>0.542751</td>\n",
              "      <td>0.282051</td>\n",
              "      <td>0.497561</td>\n",
              "      <td>...</td>\n",
              "      <td>0.783133</td>\n",
              "      <td>1.000000</td>\n",
              "      <td>0.402542</td>\n",
              "      <td>0.916084</td>\n",
              "      <td>0.0</td>\n",
              "      <td>NaN</td>\n",
              "      <td>0.34375</td>\n",
              "      <td>0.783333</td>\n",
              "      <td>0.424812</td>\n",
              "      <td>0.566990</td>\n",
              "    </tr>\n",
              "    <tr>\n",
              "      <th>3</th>\n",
              "      <td>0.006652</td>\n",
              "      <td>0.658537</td>\n",
              "      <td>0.0</td>\n",
              "      <td>0.823529</td>\n",
              "      <td>0.506024</td>\n",
              "      <td>0.338346</td>\n",
              "      <td>0.385496</td>\n",
              "      <td>0.520446</td>\n",
              "      <td>0.260073</td>\n",
              "      <td>0.697561</td>\n",
              "      <td>...</td>\n",
              "      <td>0.686747</td>\n",
              "      <td>1.000000</td>\n",
              "      <td>0.516949</td>\n",
              "      <td>0.923077</td>\n",
              "      <td>0.0</td>\n",
              "      <td>NaN</td>\n",
              "      <td>0.37500</td>\n",
              "      <td>0.716667</td>\n",
              "      <td>0.592481</td>\n",
              "      <td>0.648544</td>\n",
              "    </tr>\n",
              "    <tr>\n",
              "      <th>4</th>\n",
              "      <td>0.008869</td>\n",
              "      <td>0.902439</td>\n",
              "      <td>0.0</td>\n",
              "      <td>1.000000</td>\n",
              "      <td>0.421687</td>\n",
              "      <td>0.248120</td>\n",
              "      <td>0.345420</td>\n",
              "      <td>0.446097</td>\n",
              "      <td>0.252747</td>\n",
              "      <td>0.502439</td>\n",
              "      <td>...</td>\n",
              "      <td>0.626506</td>\n",
              "      <td>1.000000</td>\n",
              "      <td>0.555085</td>\n",
              "      <td>0.874126</td>\n",
              "      <td>0.0</td>\n",
              "      <td>NaN</td>\n",
              "      <td>0.21875</td>\n",
              "      <td>0.825000</td>\n",
              "      <td>0.523308</td>\n",
              "      <td>0.656311</td>\n",
              "    </tr>\n",
              "    <tr>\n",
              "      <th>...</th>\n",
              "      <td>...</td>\n",
              "      <td>...</td>\n",
              "      <td>...</td>\n",
              "      <td>...</td>\n",
              "      <td>...</td>\n",
              "      <td>...</td>\n",
              "      <td>...</td>\n",
              "      <td>...</td>\n",
              "      <td>...</td>\n",
              "      <td>...</td>\n",
              "      <td>...</td>\n",
              "      <td>...</td>\n",
              "      <td>...</td>\n",
              "      <td>...</td>\n",
              "      <td>...</td>\n",
              "      <td>...</td>\n",
              "      <td>...</td>\n",
              "      <td>...</td>\n",
              "      <td>...</td>\n",
              "      <td>...</td>\n",
              "      <td>...</td>\n",
              "    </tr>\n",
              "    <tr>\n",
              "      <th>445</th>\n",
              "      <td>0.991131</td>\n",
              "      <td>0.634146</td>\n",
              "      <td>1.0</td>\n",
              "      <td>0.647059</td>\n",
              "      <td>0.361446</td>\n",
              "      <td>0.187970</td>\n",
              "      <td>0.379771</td>\n",
              "      <td>0.527881</td>\n",
              "      <td>0.168498</td>\n",
              "      <td>0.570732</td>\n",
              "      <td>...</td>\n",
              "      <td>0.674699</td>\n",
              "      <td>1.000000</td>\n",
              "      <td>0.182203</td>\n",
              "      <td>0.825175</td>\n",
              "      <td>0.0</td>\n",
              "      <td>NaN</td>\n",
              "      <td>0.46875</td>\n",
              "      <td>0.550000</td>\n",
              "      <td>0.299248</td>\n",
              "      <td>0.246602</td>\n",
              "    </tr>\n",
              "    <tr>\n",
              "      <th>446</th>\n",
              "      <td>0.993348</td>\n",
              "      <td>0.439024</td>\n",
              "      <td>0.0</td>\n",
              "      <td>1.000000</td>\n",
              "      <td>0.451807</td>\n",
              "      <td>0.338346</td>\n",
              "      <td>0.261450</td>\n",
              "      <td>0.449814</td>\n",
              "      <td>0.340659</td>\n",
              "      <td>0.356098</td>\n",
              "      <td>...</td>\n",
              "      <td>0.614458</td>\n",
              "      <td>1.000000</td>\n",
              "      <td>0.661017</td>\n",
              "      <td>0.944056</td>\n",
              "      <td>0.0</td>\n",
              "      <td>NaN</td>\n",
              "      <td>0.37500</td>\n",
              "      <td>0.700000</td>\n",
              "      <td>0.618045</td>\n",
              "      <td>0.653722</td>\n",
              "    </tr>\n",
              "    <tr>\n",
              "      <th>447</th>\n",
              "      <td>0.995565</td>\n",
              "      <td>0.426829</td>\n",
              "      <td>0.0</td>\n",
              "      <td>0.717647</td>\n",
              "      <td>0.349398</td>\n",
              "      <td>0.398496</td>\n",
              "      <td>0.335878</td>\n",
              "      <td>0.464684</td>\n",
              "      <td>0.315018</td>\n",
              "      <td>0.565854</td>\n",
              "      <td>...</td>\n",
              "      <td>0.819277</td>\n",
              "      <td>1.000000</td>\n",
              "      <td>0.690678</td>\n",
              "      <td>0.000000</td>\n",
              "      <td>0.0</td>\n",
              "      <td>NaN</td>\n",
              "      <td>0.71875</td>\n",
              "      <td>0.583333</td>\n",
              "      <td>0.000000</td>\n",
              "      <td>0.034951</td>\n",
              "    </tr>\n",
              "    <tr>\n",
              "      <th>448</th>\n",
              "      <td>0.997783</td>\n",
              "      <td>0.378049</td>\n",
              "      <td>1.0</td>\n",
              "      <td>0.588235</td>\n",
              "      <td>0.271084</td>\n",
              "      <td>0.285714</td>\n",
              "      <td>0.202290</td>\n",
              "      <td>0.542751</td>\n",
              "      <td>0.402930</td>\n",
              "      <td>0.307317</td>\n",
              "      <td>...</td>\n",
              "      <td>0.698795</td>\n",
              "      <td>0.902439</td>\n",
              "      <td>0.508475</td>\n",
              "      <td>0.975524</td>\n",
              "      <td>0.0</td>\n",
              "      <td>NaN</td>\n",
              "      <td>0.40625</td>\n",
              "      <td>0.700000</td>\n",
              "      <td>0.520301</td>\n",
              "      <td>0.551456</td>\n",
              "    </tr>\n",
              "    <tr>\n",
              "      <th>449</th>\n",
              "      <td>1.000000</td>\n",
              "      <td>0.939024</td>\n",
              "      <td>1.0</td>\n",
              "      <td>0.647059</td>\n",
              "      <td>0.361446</td>\n",
              "      <td>0.180451</td>\n",
              "      <td>0.242366</td>\n",
              "      <td>0.460967</td>\n",
              "      <td>0.109890</td>\n",
              "      <td>0.380488</td>\n",
              "      <td>...</td>\n",
              "      <td>0.638554</td>\n",
              "      <td>1.000000</td>\n",
              "      <td>0.440678</td>\n",
              "      <td>0.937063</td>\n",
              "      <td>0.0</td>\n",
              "      <td>NaN</td>\n",
              "      <td>0.40625</td>\n",
              "      <td>0.633333</td>\n",
              "      <td>0.492481</td>\n",
              "      <td>0.462136</td>\n",
              "    </tr>\n",
              "  </tbody>\n",
              "</table>\n",
              "<p>450 rows × 280 columns</p>\n",
              "</div>\n",
              "    <div class=\"colab-df-buttons\">\n",
              "\n",
              "  <div class=\"colab-df-container\">\n",
              "    <button class=\"colab-df-convert\" onclick=\"convertToInteractive('df-3d019f64-8382-4e11-927a-2fd2e2bc3a20')\"\n",
              "            title=\"Convert this dataframe to an interactive table.\"\n",
              "            style=\"display:none;\">\n",
              "\n",
              "  <svg xmlns=\"http://www.w3.org/2000/svg\" height=\"24px\" viewBox=\"0 -960 960 960\">\n",
              "    <path d=\"M120-120v-720h720v720H120Zm60-500h600v-160H180v160Zm220 220h160v-160H400v160Zm0 220h160v-160H400v160ZM180-400h160v-160H180v160Zm440 0h160v-160H620v160ZM180-180h160v-160H180v160Zm440 0h160v-160H620v160Z\"/>\n",
              "  </svg>\n",
              "    </button>\n",
              "\n",
              "  <style>\n",
              "    .colab-df-container {\n",
              "      display:flex;\n",
              "      gap: 12px;\n",
              "    }\n",
              "\n",
              "    .colab-df-convert {\n",
              "      background-color: #E8F0FE;\n",
              "      border: none;\n",
              "      border-radius: 50%;\n",
              "      cursor: pointer;\n",
              "      display: none;\n",
              "      fill: #1967D2;\n",
              "      height: 32px;\n",
              "      padding: 0 0 0 0;\n",
              "      width: 32px;\n",
              "    }\n",
              "\n",
              "    .colab-df-convert:hover {\n",
              "      background-color: #E2EBFA;\n",
              "      box-shadow: 0px 1px 2px rgba(60, 64, 67, 0.3), 0px 1px 3px 1px rgba(60, 64, 67, 0.15);\n",
              "      fill: #174EA6;\n",
              "    }\n",
              "\n",
              "    .colab-df-buttons div {\n",
              "      margin-bottom: 4px;\n",
              "    }\n",
              "\n",
              "    [theme=dark] .colab-df-convert {\n",
              "      background-color: #3B4455;\n",
              "      fill: #D2E3FC;\n",
              "    }\n",
              "\n",
              "    [theme=dark] .colab-df-convert:hover {\n",
              "      background-color: #434B5C;\n",
              "      box-shadow: 0px 1px 3px 1px rgba(0, 0, 0, 0.15);\n",
              "      filter: drop-shadow(0px 1px 2px rgba(0, 0, 0, 0.3));\n",
              "      fill: #FFFFFF;\n",
              "    }\n",
              "  </style>\n",
              "\n",
              "    <script>\n",
              "      const buttonEl =\n",
              "        document.querySelector('#df-3d019f64-8382-4e11-927a-2fd2e2bc3a20 button.colab-df-convert');\n",
              "      buttonEl.style.display =\n",
              "        google.colab.kernel.accessAllowed ? 'block' : 'none';\n",
              "\n",
              "      async function convertToInteractive(key) {\n",
              "        const element = document.querySelector('#df-3d019f64-8382-4e11-927a-2fd2e2bc3a20');\n",
              "        const dataTable =\n",
              "          await google.colab.kernel.invokeFunction('convertToInteractive',\n",
              "                                                    [key], {});\n",
              "        if (!dataTable) return;\n",
              "\n",
              "        const docLinkHtml = 'Like what you see? Visit the ' +\n",
              "          '<a target=\"_blank\" href=https://colab.research.google.com/notebooks/data_table.ipynb>data table notebook</a>'\n",
              "          + ' to learn more about interactive tables.';\n",
              "        element.innerHTML = '';\n",
              "        dataTable['output_type'] = 'display_data';\n",
              "        await google.colab.output.renderOutput(dataTable, element);\n",
              "        const docLink = document.createElement('div');\n",
              "        docLink.innerHTML = docLinkHtml;\n",
              "        element.appendChild(docLink);\n",
              "      }\n",
              "    </script>\n",
              "  </div>\n",
              "\n",
              "\n",
              "<div id=\"df-651c8005-ca0c-468a-b82c-a295e8041c65\">\n",
              "  <button class=\"colab-df-quickchart\" onclick=\"quickchart('df-651c8005-ca0c-468a-b82c-a295e8041c65')\"\n",
              "            title=\"Suggest charts\"\n",
              "            style=\"display:none;\">\n",
              "\n",
              "<svg xmlns=\"http://www.w3.org/2000/svg\" height=\"24px\"viewBox=\"0 0 24 24\"\n",
              "     width=\"24px\">\n",
              "    <g>\n",
              "        <path d=\"M19 3H5c-1.1 0-2 .9-2 2v14c0 1.1.9 2 2 2h14c1.1 0 2-.9 2-2V5c0-1.1-.9-2-2-2zM9 17H7v-7h2v7zm4 0h-2V7h2v10zm4 0h-2v-4h2v4z\"/>\n",
              "    </g>\n",
              "</svg>\n",
              "  </button>\n",
              "\n",
              "<style>\n",
              "  .colab-df-quickchart {\n",
              "      --bg-color: #E8F0FE;\n",
              "      --fill-color: #1967D2;\n",
              "      --hover-bg-color: #E2EBFA;\n",
              "      --hover-fill-color: #174EA6;\n",
              "      --disabled-fill-color: #AAA;\n",
              "      --disabled-bg-color: #DDD;\n",
              "  }\n",
              "\n",
              "  [theme=dark] .colab-df-quickchart {\n",
              "      --bg-color: #3B4455;\n",
              "      --fill-color: #D2E3FC;\n",
              "      --hover-bg-color: #434B5C;\n",
              "      --hover-fill-color: #FFFFFF;\n",
              "      --disabled-bg-color: #3B4455;\n",
              "      --disabled-fill-color: #666;\n",
              "  }\n",
              "\n",
              "  .colab-df-quickchart {\n",
              "    background-color: var(--bg-color);\n",
              "    border: none;\n",
              "    border-radius: 50%;\n",
              "    cursor: pointer;\n",
              "    display: none;\n",
              "    fill: var(--fill-color);\n",
              "    height: 32px;\n",
              "    padding: 0;\n",
              "    width: 32px;\n",
              "  }\n",
              "\n",
              "  .colab-df-quickchart:hover {\n",
              "    background-color: var(--hover-bg-color);\n",
              "    box-shadow: 0 1px 2px rgba(60, 64, 67, 0.3), 0 1px 3px 1px rgba(60, 64, 67, 0.15);\n",
              "    fill: var(--button-hover-fill-color);\n",
              "  }\n",
              "\n",
              "  .colab-df-quickchart-complete:disabled,\n",
              "  .colab-df-quickchart-complete:disabled:hover {\n",
              "    background-color: var(--disabled-bg-color);\n",
              "    fill: var(--disabled-fill-color);\n",
              "    box-shadow: none;\n",
              "  }\n",
              "\n",
              "  .colab-df-spinner {\n",
              "    border: 2px solid var(--fill-color);\n",
              "    border-color: transparent;\n",
              "    border-bottom-color: var(--fill-color);\n",
              "    animation:\n",
              "      spin 1s steps(1) infinite;\n",
              "  }\n",
              "\n",
              "  @keyframes spin {\n",
              "    0% {\n",
              "      border-color: transparent;\n",
              "      border-bottom-color: var(--fill-color);\n",
              "      border-left-color: var(--fill-color);\n",
              "    }\n",
              "    20% {\n",
              "      border-color: transparent;\n",
              "      border-left-color: var(--fill-color);\n",
              "      border-top-color: var(--fill-color);\n",
              "    }\n",
              "    30% {\n",
              "      border-color: transparent;\n",
              "      border-left-color: var(--fill-color);\n",
              "      border-top-color: var(--fill-color);\n",
              "      border-right-color: var(--fill-color);\n",
              "    }\n",
              "    40% {\n",
              "      border-color: transparent;\n",
              "      border-right-color: var(--fill-color);\n",
              "      border-top-color: var(--fill-color);\n",
              "    }\n",
              "    60% {\n",
              "      border-color: transparent;\n",
              "      border-right-color: var(--fill-color);\n",
              "    }\n",
              "    80% {\n",
              "      border-color: transparent;\n",
              "      border-right-color: var(--fill-color);\n",
              "      border-bottom-color: var(--fill-color);\n",
              "    }\n",
              "    90% {\n",
              "      border-color: transparent;\n",
              "      border-bottom-color: var(--fill-color);\n",
              "    }\n",
              "  }\n",
              "</style>\n",
              "\n",
              "  <script>\n",
              "    async function quickchart(key) {\n",
              "      const quickchartButtonEl =\n",
              "        document.querySelector('#' + key + ' button');\n",
              "      quickchartButtonEl.disabled = true;  // To prevent multiple clicks.\n",
              "      quickchartButtonEl.classList.add('colab-df-spinner');\n",
              "      try {\n",
              "        const charts = await google.colab.kernel.invokeFunction(\n",
              "            'suggestCharts', [key], {});\n",
              "      } catch (error) {\n",
              "        console.error('Error during call to suggestCharts:', error);\n",
              "      }\n",
              "      quickchartButtonEl.classList.remove('colab-df-spinner');\n",
              "      quickchartButtonEl.classList.add('colab-df-quickchart-complete');\n",
              "    }\n",
              "    (() => {\n",
              "      let quickchartButtonEl =\n",
              "        document.querySelector('#df-651c8005-ca0c-468a-b82c-a295e8041c65 button');\n",
              "      quickchartButtonEl.style.display =\n",
              "        google.colab.kernel.accessAllowed ? 'block' : 'none';\n",
              "    })();\n",
              "  </script>\n",
              "</div>\n",
              "    </div>\n",
              "  </div>\n"
            ]
          },
          "metadata": {},
          "execution_count": 26
        }
      ]
    },
    {
      "cell_type": "code",
      "source": [
        "def euclidean(x1, x2):\n",
        "  return np.sqrt(np.sum((x1-x2)**2))\n",
        "\n",
        "euclidean(X.iloc[0], X.iloc[1])"
      ],
      "metadata": {
        "colab": {
          "base_uri": "https://localhost:8080/"
        },
        "id": "cHvYPed6PuUP",
        "outputId": "bb27b247-8612-4f4e-9e48-62dc1360137b"
      },
      "execution_count": 27,
      "outputs": [
        {
          "output_type": "execute_result",
          "data": {
            "text/plain": [
              "2.3700817601695316"
            ]
          },
          "metadata": {},
          "execution_count": 27
        }
      ]
    },
    {
      "cell_type": "code",
      "source": [
        "def knn(X_train, y_train, X_test, k):\n",
        "\n",
        "  dist = []\n",
        "  for row in range(X_train.shape[0]):\n",
        "    dist.append(euclidean(X_train.iloc[row], X_test))\n",
        "\n",
        "  data = X_train.copy()\n",
        "  data['Dist'] = dist\n",
        "  data['classes'] = y_train\n",
        "\n",
        "  data = data.sort_values(by='Dist').reset_index(drop=True)\n",
        "\n",
        "  y_pred = data.iloc[:k].classes.mode()\n",
        "\n",
        "  return y_pred[0]"
      ],
      "metadata": {
        "id": "sshI3RtpPwEA"
      },
      "execution_count": 28,
      "outputs": []
    },
    {
      "cell_type": "code",
      "source": [
        "def evaluate(fold, k):\n",
        "  test, train = fold\n",
        "\n",
        "  X_train, y_train = train.drop('classes', axis=1), train.classes\n",
        "  X_test, y_test = test.drop('classes', axis=1), test.classes\n",
        "\n",
        "#normalisasi fitur di X\n",
        "  X_train = norm(X_train)\n",
        "  X_test = norm(X_test)\n",
        "\n",
        "  y_preds = []\n",
        "\n",
        "  for row in range(X_test.shape[0]):\n",
        "    y_preds.append(knn(X_train, y_train, X_test.iloc[row], k))\n",
        "\n",
        "  return (acc(y_preds, y_test))"
      ],
      "metadata": {
        "id": "yrNKHXHwPyUn"
      },
      "execution_count": 29,
      "outputs": []
    },
    {
      "cell_type": "code",
      "source": [
        "def acc(y_pred, y_true):\n",
        "  true = 0\n",
        "  for i in range(len(y_pred)):\n",
        "    if y_pred[i] == y_true[i]:\n",
        "      true+=1\n",
        "  return true/len(y_pred)"
      ],
      "metadata": {
        "id": "c5qa6BvbP0ev"
      },
      "execution_count": 30,
      "outputs": []
    },
    {
      "cell_type": "code",
      "source": [
        "k = 5\n",
        "accs = []\n",
        "folds = [fold1,fold2,fold3]\n",
        "\n",
        "for i in range(len(folds)):\n",
        "  accs.append(evaluate(folds[i],k))\n",
        "\n",
        "print(f'Menggunakan K: {k}, dengan rata-rata Akurasi : {sum(accs)/3}')"
      ],
      "metadata": {
        "colab": {
          "base_uri": "https://localhost:8080/"
        },
        "id": "Xqbq1tkdP2Rf",
        "outputId": "1a0eb18e-6017-4197-f652-2862fb9421cf"
      },
      "execution_count": 31,
      "outputs": [
        {
          "output_type": "stream",
          "name": "stdout",
          "text": [
            "Menggunakan K: 5, dengan rata-rata Akurasi : 0.6088888888888889\n"
          ]
        }
      ]
    },
    {
      "cell_type": "code",
      "source": [
        "from sklearn.neighbors import KNeighborsClassifier\n",
        "from sklearn.metrics import f1_score\n",
        "import matplotlib.pyplot as plt\n",
        "\n",
        "# Assuming x_train, y_train, x_test, and y_test are already defined\n",
        "\n",
        "k = []\n",
        "f1 = []\n",
        "\n",
        "for i in range(1, 21):  # Start from 1 instead of 0\n",
        "    knn_model = KNeighborsClassifier(n_neighbors=i)\n",
        "    knn_model.fit(x_train, y_train)\n",
        "    knn_prediction = knn_model.predict(x_test)\n",
        "    knn_f1 = f1_score(y_test, knn_prediction, average=\"weighted\")\n",
        "    k.append(i)\n",
        "    f1.append(knn_f1)\n",
        "\n",
        "default_x_ticks = range(len(k))\n",
        "plt.plot(default_x_ticks, f1)\n",
        "plt.xticks(default_x_ticks, k)\n",
        "plt.xlabel('Number of Neighbors (k)')\n",
        "plt.ylabel('F1 Score')\n",
        "plt.title('F1 Score by Number of Neighbors')\n",
        "plt.show()\n"
      ],
      "metadata": {
        "colab": {
          "base_uri": "https://localhost:8080/",
          "height": 472
        },
        "id": "xSVEAXO_ThA_",
        "outputId": "d8278450-70ec-4d10-d884-ccdeb676772c"
      },
      "execution_count": 39,
      "outputs": [
        {
          "output_type": "display_data",
          "data": {
            "text/plain": [
              "<Figure size 640x480 with 1 Axes>"
            ],
            "image/png": "[encoded data removed]"
          },
          "metadata": {}
        }
      ]
    },
    {
      "cell_type": "markdown",
      "source": [
        "#NAIVE BAYES"
      ],
      "metadata": {
        "id": "BqTm0uJMMHX4"
      }
    },
    {
      "cell_type": "markdown",
      "source": [
        "Untuk pemroresan dengan Naive Bayes, kami menggunakan library sklearn. Setelah saya cocokan slide dengan dokumentasi sklearn, ternyata yang digunakkan adalah Gaussian. Pertama tama kita buat dulu modelnya dan fit dengan data training"
      ],
      "metadata": {
        "id": "tjZ_QiJ2NFLq"
      }
    },
    {
      "cell_type": "code",
      "source": [
        "import pandas as pd\n",
        "from sklearn.model_selection import train_test_split\n",
        "from sklearn.neighbors import KNeighborsClassifier\n",
        "from sklearn.naive_bayes import GaussianNB\n",
        "from sklearn.preprocessing import MinMaxScaler\n",
        "import matplotlib.pyplot as plt\n",
        "from sklearn.metrics import f1_score\n",
        "from sklearn.metrics import accuracy_score\n",
        "from sklearn.metrics import precision_score\n",
        "from sklearn.metrics import recall_score"
      ],
      "metadata": {
        "id": "Nu1dgbJjMKw4"
      },
      "execution_count": 33,
      "outputs": []
    },
    {
      "cell_type": "markdown",
      "source": [
        "Seperti pada training data KNN, kita baca dulu file yang sudah diproses tadi dan pilih fitur dan target"
      ],
      "metadata": {
        "id": "w4GMqp3KOFlm"
      }
    },
    {
      "cell_type": "code",
      "source": [
        "df = pd.read_csv(\"/content/dataBersih.csv\")\n",
        "x = df.drop([\"classes\"], axis=1)\n",
        "y = df[\"classes\"]"
      ],
      "metadata": {
        "id": "T6ERZ0q8MUiw"
      },
      "execution_count": 34,
      "outputs": []
    },
    {
      "cell_type": "markdown",
      "source": [
        "Kemudian kita normalisasi data, kami menggunakan metode min max"
      ],
      "metadata": {
        "id": "6OxlJxtrOUqt"
      }
    },
    {
      "cell_type": "code",
      "source": [
        "scaler = MinMaxScaler()\n",
        "x = scaler.fit_transform(x)"
      ],
      "metadata": {
        "id": "GiuE5GZDMaEP"
      },
      "execution_count": 35,
      "outputs": []
    },
    {
      "cell_type": "markdown",
      "source": [
        "Kemudian kita split datanya untuk training dan testing"
      ],
      "metadata": {
        "id": "31Bd6sH-OcTV"
      }
    },
    {
      "cell_type": "code",
      "source": [
        "x_train, x_test, y_train, y_test = train_test_split(x , y, test_size=0.1)"
      ],
      "metadata": {
        "id": "-G1HDZTVMqhx"
      },
      "execution_count": 36,
      "outputs": []
    },
    {
      "cell_type": "markdown",
      "source": [
        "Selanjutnya kita akan buat dulu model gaussian Bayes nya dan fit dengan data training\n"
      ],
      "metadata": {
        "id": "nb3AntPlOkqu"
      }
    },
    {
      "cell_type": "code",
      "source": [
        "nb_model = GaussianNB()\n",
        "nb_model = nb_model.fit(x_train, y_train)"
      ],
      "metadata": {
        "id": "2wMpMbZNMmbx"
      },
      "execution_count": 37,
      "outputs": []
    },
    {
      "cell_type": "markdown",
      "source": [
        "Terakhir kita cek prediksinya dengan data testing dan tes akurasi, presisi, recall, dan f1"
      ],
      "metadata": {
        "id": "3U-aBkcbOxl4"
      }
    },
    {
      "cell_type": "code",
      "source": [
        "nb_prediction = nb_model.predict(x_test)\n",
        "nb_accuracy = accuracy_score(y_test, nb_prediction)\n",
        "nb_precision = precision_score(y_test, nb_prediction, average=\"weighted\")\n",
        "nb_recall = recall_score(y_test, nb_prediction, average=\"weighted\")\n",
        "nb_f1 = f1_score(y_test, nb_prediction, average=\"weighted\")\n",
        "print(f\"\\nSkor akurasi bayes: {nb_accuracy}\")\n",
        "print(f\"Skor Presisi bayes: {nb_precision}\")\n",
        "print(f\"Skor recall bayes: {nb_recall}\")\n",
        "print(f\"Skor f1 bayes: {nb_f1}\")"
      ],
      "metadata": {
        "colab": {
          "base_uri": "https://localhost:8080/"
        },
        "id": "BjldIEt-MwXi",
        "outputId": "56677158-df6c-4d5a-ef1a-ee99b86bcaae"
      },
      "execution_count": 38,
      "outputs": [
        {
          "output_type": "stream",
          "name": "stdout",
          "text": [
            "\n",
            "Skor akurasi bayes: 0.15555555555555556\n",
            "Skor Presisi bayes: 0.4964646464646464\n",
            "Skor recall bayes: 0.15555555555555556\n",
            "Skor f1 bayes: 0.15732377538829154\n"
          ]
        },
        {
          "output_type": "stream",
          "name": "stderr",
          "text": [
            "/usr/local/lib/python3.10/dist-packages/sklearn/metrics/_classification.py:1344: UndefinedMetricWarning: Precision is ill-defined and being set to 0.0 in labels with no predicted samples. Use `zero_division` parameter to control this behavior.\n",
            "  _warn_prf(average, modifier, msg_start, len(result))\n",
            "/usr/local/lib/python3.10/dist-packages/sklearn/metrics/_classification.py:1344: UndefinedMetricWarning: Recall is ill-defined and being set to 0.0 in labels with no true samples. Use `zero_division` parameter to control this behavior.\n",
            "  _warn_prf(average, modifier, msg_start, len(result))\n"
          ]
        }
      ]
    }
  ],
  "metadata": {
    "colab": {
      "provenance": [],
      "gpuType": "T4"
    },
    "kernelspec": {
      "display_name": "Python 3",
      "name": "python3"
    },
    "language_info": {
      "name": "python"
    },
    "accelerator": "GPU"
  },
  "nbformat": 4,
  "nbformat_minor": 0
}